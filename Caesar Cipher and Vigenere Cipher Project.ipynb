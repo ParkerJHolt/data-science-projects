{
 "cells": [
  {
   "cell_type": "markdown",
   "id": "4fac9df7",
   "metadata": {},
   "source": [
    "# Caesar Cipher and Vigenere Cipher Project\n",
    "### Author: Parker Holt\n",
    "Summary: Cryptography project by creating functions for Caesar Cipher and Vigenere Cipher including cases by sending encrypted messages to friend and decrypting them."
   ]
  },
  {
   "cell_type": "markdown",
   "id": "06e87fc7",
   "metadata": {},
   "source": [
    "## Caesar Cipher"
   ]
  },
  {
   "cell_type": "code",
   "execution_count": 1,
   "id": "f5d15e2f",
   "metadata": {},
   "outputs": [
    {
     "name": "stdout",
     "output_type": "stream",
     "text": [
      "xuo jxuhu! jxyi yi qd unqcfbu ev q squiqh syfxuh. muhu oek qrbu je tusetu yj? y xefu ie! iudt cu q cuiiqwu rqsa myjx jxu iqcu evviuj!\n"
     ]
    }
   ],
   "source": [
    "#first message from friend using caesar cipher\n",
    "message_1 = 'xuo jxuhu! jxyi yi qd unqcfbu ev q squiqh syfxuh. muhu oek qrbu je tusetu yj? y xefu ie! iudt cu q cuiiqwu rqsa myjx jxu iqcu evviuj!'\n",
    "print(message_1)\n",
    "#list of alphabet to be used for functions\n",
    "alphabet = ['a', 'b', 'c', 'd', 'e', 'f', 'g', 'h', 'i', 'j', \n",
    "           'k', 'l', 'm', 'n', 'o', 'p', 'q', 'r', 's', 't', 'u', \n",
    "           'v', 'w', 'x', 'y', 'z']\n",
    "#offset for the first message\n",
    "offset = 10"
   ]
  },
  {
   "cell_type": "code",
   "execution_count": 2,
   "id": "db4846ed",
   "metadata": {},
   "outputs": [],
   "source": [
    "#function for decoding a message in casear cipher\n",
    "def caesar_decode(message, offset):\n",
    "    encoded_message = []\n",
    "    cracking_message=[]\n",
    "    for letter in message:\n",
    "        for i in range(0, len(alphabet)):\n",
    "            if letter == alphabet[i]:\n",
    "                cracking_message.append(i)\n",
    "        if letter == ' ':\n",
    "            cracking_message.append(letter)\n",
    "        elif letter == '!':\n",
    "            cracking_message.append(letter)\n",
    "        elif letter == '.':\n",
    "            cracking_message.append(letter)\n",
    "        elif letter == '?':\n",
    "            cracking_message.append(letter)\n",
    "        elif letter == '\\'':\n",
    "            cracking_message.append(letter)\n",
    "        \n",
    "    for letter in cracking_message:\n",
    "        if letter == ' ':\n",
    "            encoded_message.append(letter)\n",
    "            continue\n",
    "        elif letter == '!':\n",
    "            encoded_message.append(letter)\n",
    "            continue\n",
    "        elif letter == '.':\n",
    "            encoded_message.append(letter)\n",
    "            continue\n",
    "        elif letter == '?':\n",
    "            encoded_message.append(letter)\n",
    "            continue\n",
    "        elif letter == '\\'':\n",
    "            encoded_message.append(letter)\n",
    "            continue\n",
    "        encoded_message.append(alphabet[(letter + offset) % 26])\n",
    "   \n",
    "    full_message = ''.join(encoded_message)\n",
    "    return full_message"
   ]
  },
  {
   "cell_type": "code",
   "execution_count": 3,
   "id": "5d7b3383",
   "metadata": {},
   "outputs": [],
   "source": [
    "#function for encoding a message in caesar cipher\n",
    "\n",
    "def caesar_encode(message, offset):\n",
    "    coded_message = []\n",
    "    breaking_message=[]\n",
    "    for letter in message:\n",
    "        for i in range(0, len(alphabet)):\n",
    "            if letter == alphabet[i]:\n",
    "                breaking_message.append(i)\n",
    "        if letter == ' ':\n",
    "            breaking_message.append(letter)\n",
    "        elif letter == '!':\n",
    "            breaking_message.append(letter)\n",
    "        elif letter == '.':\n",
    "            breaking_message.append(letter)\n",
    "        elif letter == '?':\n",
    "            breaking_message.append(letter)\n",
    "        elif letter == '\\'':\n",
    "            breaking_message.append(letter)\n",
    " \n",
    "    for letter in breaking_message:\n",
    "        if letter == ' ':\n",
    "            coded_message.append(letter)\n",
    "            continue\n",
    "        elif letter == '!':\n",
    "            coded_message.append(letter)\n",
    "            continue\n",
    "        elif letter == '.':\n",
    "            coded_message.append(letter)\n",
    "            continue\n",
    "        elif letter == '?':\n",
    "            coded_message.append(letter)\n",
    "            continue\n",
    "        elif letter == '\\'':\n",
    "            coded_message.append(letter)\n",
    "            continue\n",
    "        coded_message.append(alphabet[(letter - offset) % 26])\n",
    "        \n",
    "    full_message = ''.join(coded_message)\n",
    "    return full_message"
   ]
  },
  {
   "cell_type": "code",
   "execution_count": 4,
   "id": "518ed91a",
   "metadata": {},
   "outputs": [
    {
     "data": {
      "text/plain": [
       "'hey there! this is an example of a caesar cipher. were you able to decode it? i hope so! send me a message back with the same offset!'"
      ]
     },
     "execution_count": 4,
     "metadata": {},
     "output_type": "execute_result"
    }
   ],
   "source": [
    "#decoding first message from friend\n",
    "\n",
    "decoded_message = caesar_decode(message_1, offset)\n",
    "decoded_message"
   ]
  },
  {
   "cell_type": "code",
   "execution_count": 5,
   "id": "dd194d09",
   "metadata": {},
   "outputs": [
    {
     "data": {
      "text/plain": [
       "True"
      ]
     },
     "execution_count": 5,
     "metadata": {},
     "output_type": "execute_result"
    }
   ],
   "source": [
    "#test to check if the functions work. We will decode the message and encode the message to see if original encoded message matches with encoded message\n",
    "\n",
    "encoded_message = caesar_encode(decoded_message, offset)\n",
    "encoded_message == message_1"
   ]
  },
  {
   "cell_type": "code",
   "execution_count": 6,
   "id": "2d574e77",
   "metadata": {},
   "outputs": [
    {
     "name": "stdout",
     "output_type": "stream",
     "text": [
      "the offset for the second message is fourteen.\n",
      "performing multiple caesar ciphers to code your messages is even more secure!\n"
     ]
    }
   ],
   "source": [
    "#second message from friend with 10 as offset\n",
    "message_2 = 'jxu evviuj veh jxu iusedt cuiiqwu yi vekhjuud.'\n",
    "decoded_message_2 = caesar_decode(message_2, 10)\n",
    "print(decoded_message_2)\n",
    "\n",
    "#third message from friend with 14 as offset\n",
    "message_3 = 'bqdradyuzs ygxfubxq omqemd oubtqde fa oapq kagd yqeemsqe ue qhqz yadq eqogdq!'\n",
    "decoded_message_3 = caesar_decode(message_3, 14)\n",
    "print(decoded_message_3)"
   ]
  },
  {
   "cell_type": "code",
   "execution_count": 7,
   "id": "72a20972",
   "metadata": {},
   "outputs": [
    {
     "name": "stdout",
     "output_type": "stream",
     "text": [
      "\n",
      "0.\n",
      "vhfinmxkl atox kxgwxkxw tee hy maxlx hew vbiaxkl hulhexmx. px'ee atox mh kxteer lmxi ni hnk ztfx by px ptgm mh dxxi hnk fxlltzxl ltyx.\n",
      "\n",
      "1.\n",
      "wigjonylm bupy lyhxylyx uff iz nbymy ifx wcjbylm ivmifyny. qy'ff bupy ni lyuffs mnyj oj iol augy cz qy quhn ni eyyj iol gymmuaym muzy.\n",
      "\n",
      "2.\n",
      "xjhkpozmn cvqz mziyzmzy vgg ja ocznz jgy xdkczmn jwnjgzoz. rz'gg cvqz oj mzvggt nozk pk jpm bvhz da rz rvio oj fzzk jpm hznnvbzn nvaz.\n",
      "\n",
      "3.\n",
      "ykilqpano dwra najzanaz whh kb pdaoa khz yeldano kxokhapa. sa'hh dwra pk nawhhu opal ql kqn cwia eb sa swjp pk gaal kqn iaoowcao owba.\n",
      "\n",
      "4.\n",
      "zljmrqbop exsb obkaboba xii lc qebpb lia zfmebop lyplibqb. tb'ii exsb ql obxiiv pqbm rm lro dxjb fc tb txkq ql hbbm lro jbppxdbp pxcb.\n",
      "\n",
      "5.\n",
      "amknsrcpq fytc pclbcpcb yjj md rfcqc mjb agnfcpq mzqmjcrc. uc'jj fytc rm pcyjjw qrcn sn msp eykc gd uc uylr rm iccn msp kcqqyecq qydc.\n",
      "\n",
      "6.\n",
      "bnlotsdqr gzud qdmcdqdc zkk ne sgdrd nkc bhogdqr narnkdsd. vd'kk gzud sn qdzkkx rsdo to ntq fzld he vd vzms sn jddo ntq ldrrzfdr rzed.\n",
      "\n",
      "7.\n",
      "computers have rendered all of these old ciphers obsolete. we'll have to really step up our game if we want to keep our messages safe.\n",
      "\n",
      "8.\n",
      "dpnqvufst ibwf sfoefsfe bmm pg uiftf pme djqifst pctpmfuf. xf'mm ibwf up sfbmmz tufq vq pvs hbnf jg xf xbou up lffq pvs nfttbhft tbgf.\n",
      "\n",
      "9.\n",
      "eqorwvgtu jcxg tgpfgtgf cnn qh vjgug qnf ekrjgtu qduqngvg. yg'nn jcxg vq tgcnna uvgr wr qwt icog kh yg ycpv vq mggr qwt oguucigu uchg.\n",
      "\n",
      "10.\n",
      "frpsxwhuv kdyh uhqghuhg doo ri wkhvh rog flskhuv revrohwh. zh'oo kdyh wr uhdoob vwhs xs rxu jdph li zh zdqw wr nhhs rxu phvvdjhv vdih.\n",
      "\n",
      "11.\n",
      "gsqtyxivw lezi virhivih epp sj xliwi sph gmtlivw sfwspixi. ai'pp lezi xs vieppc wxit yt syv keqi mj ai aerx xs oiit syv qiwwekiw weji.\n",
      "\n",
      "12.\n",
      "htruzyjwx mfaj wjsijwji fqq tk ymjxj tqi hnumjwx tgxtqjyj. bj'qq mfaj yt wjfqqd xyju zu tzw lfrj nk bj bfsy yt pjju tzw rjxxfljx xfkj.\n",
      "\n",
      "13.\n",
      "iusvazkxy ngbk xktjkxkj grr ul znkyk urj iovnkxy uhyurkzk. ck'rr ngbk zu xkgrre yzkv av uax mgsk ol ck cgtz zu qkkv uax skyygmky yglk.\n",
      "\n",
      "14.\n",
      "jvtwbalyz ohcl yluklylk hss vm aolzl vsk jpwolyz vizvslal. dl'ss ohcl av ylhssf zalw bw vby nhtl pm dl dhua av rllw vby tlzzhnlz zhml.\n",
      "\n",
      "15.\n",
      "kwuxcbmza pidm zmvlmzml itt wn bpmam wtl kqxpmza wjawtmbm. em'tt pidm bw zmittg abmx cx wcz oium qn em eivb bw smmx wcz umaaioma ainm.\n",
      "\n",
      "16.\n",
      "lxvydcnab qjen anwmnanm juu xo cqnbn xum lryqnab xkbxuncn. fn'uu qjen cx anjuuh bcny dy xda pjvn ro fn fjwc cx tnny xda vnbbjpnb bjon.\n",
      "\n",
      "17.\n",
      "mywzedobc rkfo boxnobon kvv yp droco yvn mszrobc ylcyvodo. go'vv rkfo dy bokvvi cdoz ez yeb qkwo sp go gkxd dy uooz yeb wocckqoc ckpo.\n",
      "\n",
      "18.\n",
      "nzxafepcd slgp cpyopcpo lww zq espdp zwo ntaspcd zmdzwpep. hp'ww slgp ez cplwwj depa fa zfc rlxp tq hp hlye ez vppa zfc xpddlrpd dlqp.\n",
      "\n",
      "19.\n",
      "oaybgfqde tmhq dqzpqdqp mxx ar ftqeq axp oubtqde aneaxqfq. iq'xx tmhq fa dqmxxk efqb gb agd smyq ur iq imzf fa wqqb agd yqeemsqe emrq.\n",
      "\n",
      "20.\n",
      "pbzchgref unir eraqrerq nyy bs gurfr byq pvcuref bofbyrgr. jr'yy unir gb ernyyl fgrc hc bhe tnzr vs jr jnag gb xrrc bhe zrffntrf fnsr.\n",
      "\n",
      "21.\n",
      "qcadihsfg vojs fsbrsfsr ozz ct hvsgs czr qwdvsfg cpgczshs. ks'zz vojs hc fsozzm ghsd id cif uoas wt ks kobh hc yssd cif asggousg gots.\n",
      "\n",
      "22.\n",
      "rdbejitgh wpkt gtcstgts paa du iwtht das rxewtgh dqhdatit. lt'aa wpkt id gtpaan hite je djg vpbt xu lt lpci id ztte djg bthhpvth hput.\n",
      "\n",
      "23.\n",
      "secfkjuhi xqlu hudtuhut qbb ev jxuiu ebt syfxuhi eriebuju. mu'bb xqlu je huqbbo ijuf kf ekh wqcu yv mu mqdj je auuf ekh cuiiqwui iqvu.\n",
      "\n",
      "24.\n",
      "tfdglkvij yrmv iveuvivu rcc fw kyvjv fcu tzgyvij fsjfcvkv. nv'cc yrmv kf ivrccp jkvg lg fli xrdv zw nv nrek kf bvvg fli dvjjrxvj jrwv.\n",
      "\n",
      "25.\n",
      "ugehmlwjk zsnw jwfvwjwv sdd gx lzwkw gdv uahzwjk gtkgdwlw. ow'dd zsnw lg jwsddq klwh mh gmj ysew ax ow osfl lg cwwh gmj ewkksywk ksxw.\n"
     ]
    }
   ],
   "source": [
    "#fourth message from friend, but using brute force until finding clear message\n",
    "message_4 = 'vhfinmxkl atox kxgwxkxw tee hy maxlx hew vbiaxkl hulhexmx. px\\'ee atox mh kxteer lmxi ni hnk ztfx by px ptgm mh dxxi hnk fxlltzxl ltyx.'\n",
    "for i in range(0,26):\n",
    "    print()\n",
    "    print(str(i)+'.')\n",
    "    print(caesar_decode(message_4, i))\n",
    "\n",
    "# clear message is 7 which you can see the brute force in action below, thus the offset is 7."
   ]
  },
  {
   "cell_type": "markdown",
   "id": "336d5f82",
   "metadata": {},
   "source": [
    "## Vigenere Cipher"
   ]
  },
  {
   "cell_type": "code",
   "execution_count": 8,
   "id": "39019c0d",
   "metadata": {},
   "outputs": [],
   "source": [
    "#function for decoding a message in Vigenere cipher\n",
    "\n",
    "def vigenere_decode(message, keyword):\n",
    "    encoded_message = []\n",
    "    cracking_message=[]\n",
    "    list_keyword = list(keyword)\n",
    "    num_keyword = []\n",
    "    k = 0\n",
    "    for letter in message:\n",
    "        for i in range(0, len(alphabet)):\n",
    "            if letter == alphabet[i]:\n",
    "                cracking_message.append(i)\n",
    "        if letter == ' ':\n",
    "            cracking_message.append(letter)\n",
    "        elif letter == '!':\n",
    "            cracking_message.append(letter)\n",
    "        elif letter == '.':\n",
    "            cracking_message.append(letter)\n",
    "        elif letter == '?':\n",
    "            cracking_message.append(letter)\n",
    "        elif letter == '\\'':\n",
    "            cracking_message.append(letter)\n",
    "    \n",
    "    for letter in list_keyword:\n",
    "        for i in range(0, len(alphabet)):\n",
    "            if letter == alphabet[i]:\n",
    "                num_keyword.append(i)\n",
    "\n",
    "    for letter in cracking_message:\n",
    "        if letter == ' ':\n",
    "            encoded_message.append(letter)\n",
    "            continue\n",
    "        elif letter == '!':\n",
    "            encoded_message.append(letter)\n",
    "            continue\n",
    "        elif letter == '.':\n",
    "            encoded_message.append(letter)\n",
    "            continue\n",
    "        elif letter == '?':\n",
    "            encoded_message.append(letter)\n",
    "            continue\n",
    "        elif letter == '\\'':\n",
    "            encoded_message.append(letter)\n",
    "            continue\n",
    "        encoded_message.append(alphabet[((letter + num_keyword[k % len(keyword)])) % 26])\n",
    "        k += 1\n",
    "       \n",
    "        \n",
    "    full_message = ''.join(encoded_message)\n",
    "    return full_message"
   ]
  },
  {
   "cell_type": "code",
   "execution_count": 9,
   "id": "a53e941a",
   "metadata": {},
   "outputs": [],
   "source": [
    "#function for encoding a message in Vigenere cipher\n",
    "\n",
    "def vigenere_encode(message, keyword):\n",
    "    encoded_message = []\n",
    "    cracking_message=[]\n",
    "    list_keyword = list(keyword)\n",
    "    num_keyword = []\n",
    "    k = 0\n",
    "    for letter in message:\n",
    "        for i in range(0, len(alphabet)):\n",
    "            if letter == alphabet[i]:\n",
    "                cracking_message.append(i)\n",
    "        if letter == ' ':\n",
    "            cracking_message.append(letter)\n",
    "        elif letter == '!':\n",
    "            cracking_message.append(letter)\n",
    "        elif letter == '.':\n",
    "            cracking_message.append(letter)\n",
    "        elif letter == '?':\n",
    "            cracking_message.append(letter)\n",
    "        elif letter == '\\'':\n",
    "            cracking_message.append(letter)\n",
    "    \n",
    "    for letter in list_keyword:\n",
    "        for i in range(0, len(alphabet)):\n",
    "            if letter == alphabet[i]:\n",
    "                num_keyword.append(i)\n",
    "        \n",
    "    for letter in cracking_message:\n",
    "        if letter == ' ':\n",
    "            encoded_message.append(letter)\n",
    "            continue\n",
    "        elif letter == '!':\n",
    "            encoded_message.append(letter)\n",
    "            continue\n",
    "        elif letter == '.':\n",
    "            encoded_message.append(letter)\n",
    "            continue\n",
    "        elif letter == '?':\n",
    "            encoded_message.append(letter)\n",
    "            continue\n",
    "        elif letter == '\\'':\n",
    "            encoded_message.append(letter)\n",
    "            continue\n",
    "        encoded_message.append(alphabet[((letter - num_keyword[k % len(keyword)])) % 26])\n",
    "        k += 1\n",
    "   \n",
    "    full_message = ''.join(encoded_message)\n",
    "    return full_message"
   ]
  },
  {
   "cell_type": "code",
   "execution_count": 10,
   "id": "a1c3386a",
   "metadata": {},
   "outputs": [
    {
     "data": {
      "text/plain": [
       "'you were able to decode this? nice work! you are becoming quite the expert at crytography!'"
      ]
     },
     "execution_count": 10,
     "metadata": {},
     "output_type": "execute_result"
    }
   ],
   "source": [
    "#Vigenere Cipher message from friend\n",
    "message_v = 'txm srom vkda gl lzlgzr qpdb? fepb ejac! ubr imn tapludwy mhfbz cza ruxzal wg zztcgcexxch!'\n",
    "keyword = 'friends'\n",
    "message_v_decoded = vigenere_decode(message_v, keyword)\n",
    "message_v_decoded"
   ]
  },
  {
   "cell_type": "code",
   "execution_count": 11,
   "id": "4b8e1aa1",
   "metadata": {},
   "outputs": [
    {
     "data": {
      "text/plain": [
       "True"
      ]
     },
     "execution_count": 11,
     "metadata": {},
     "output_type": "execute_result"
    }
   ],
   "source": [
    "#test to check if the functions work. We will decode the message and encode the message to see if original encoded message matches with encoded message\n",
    "message_v_encoded = vigenere_encode(message_v_decoded, keyword)\n",
    "message_v_encoded == message_v"
   ]
  },
  {
   "cell_type": "markdown",
   "id": "6e79c8b2",
   "metadata": {},
   "source": [
    "## Try it out! \n",
    "\n",
    "You can use functions to use Caesar Cipher or Vigenere Cipher to encrypt or decrypt your message: caesar_encode(), caesar_decode(), vigenere_encode(), vigenere_decode() "
   ]
  },
  {
   "cell_type": "code",
   "execution_count": 12,
   "id": "534c03d7",
   "metadata": {},
   "outputs": [],
   "source": [
    "#Encrypt or Decrypt Here"
   ]
  }
 ],
 "metadata": {
  "kernelspec": {
   "display_name": "Python 3 (ipykernel)",
   "language": "python",
   "name": "python3"
  },
  "language_info": {
   "codemirror_mode": {
    "name": "ipython",
    "version": 3
   },
   "file_extension": ".py",
   "mimetype": "text/x-python",
   "name": "python",
   "nbconvert_exporter": "python",
   "pygments_lexer": "ipython3",
   "version": "3.9.12"
  }
 },
 "nbformat": 4,
 "nbformat_minor": 5
}
