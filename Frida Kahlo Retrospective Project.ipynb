{
 "cells": [
  {
   "cell_type": "markdown",
   "id": "672869ee",
   "metadata": {},
   "source": [
    "# Frida Kahlo Retrospective Project\n",
    "### Parker Holt\n",
    "## A simple project showcasing my knowledge of Python using lists and list comphresions"
   ]
  },
  {
   "cell_type": "code",
   "execution_count": 9,
   "id": "58af93da",
   "metadata": {},
   "outputs": [
    {
     "data": {
      "text/plain": [
       "[(1, ('The Two Fridas', 1939)),\n",
       " (2, ('My Dress Hangs Here', 1933)),\n",
       " (3, ('Tree of Hope', 1946)),\n",
       " (4, ('Self Portrait With Monkeys', 1940)),\n",
       " (5, ('The Broken Column', 1944)),\n",
       " (6, ('The Wounded Deer', 1946))]"
      ]
     },
     "execution_count": 9,
     "metadata": {},
     "output_type": "execute_result"
    }
   ],
   "source": [
    "# List of Paintings\n",
    "\n",
    "paintings = ['The Two Fridas', 'My Dress Hangs Here', 'Tree of Hope', \n",
    "             'Self Portrait With Monkeys']\n",
    "# List of Dates\n",
    "dates = [1939, 1933, 1946, 1940]\n",
    "\n",
    "# Combining two lists into one list\n",
    "paintings = list(zip(paintings, dates))\n",
    "\n",
    "# Adding new data into paintings list\n",
    "paintings.append(('The Broken Column', 1944))\n",
    "paintings.append(('The Wounded Deer', 1946))\n",
    "paintings.append(('Me and My Doll', 1937))\n",
    "\n",
    "# creating a new list for audio tour numbers\n",
    "length = len(paintings)\n",
    "audio_tour_number = [i for i in range(1, length)]\n",
    "\n",
    "# creating a final list which gives corresponding audio tour number to every painting\n",
    "master_list = list(zip(audio_tour_number, paintings))\n",
    "\n",
    "master_list"
   ]
  },
  {
   "cell_type": "code",
   "execution_count": null,
   "id": "d8afc941",
   "metadata": {},
   "outputs": [],
   "source": []
  }
 ],
 "metadata": {
  "kernelspec": {
   "display_name": "Python 3 (ipykernel)",
   "language": "python",
   "name": "python3"
  },
  "language_info": {
   "codemirror_mode": {
    "name": "ipython",
    "version": 3
   },
   "file_extension": ".py",
   "mimetype": "text/x-python",
   "name": "python",
   "nbconvert_exporter": "python",
   "pygments_lexer": "ipython3",
   "version": "3.9.12"
  }
 },
 "nbformat": 4,
 "nbformat_minor": 5
}
