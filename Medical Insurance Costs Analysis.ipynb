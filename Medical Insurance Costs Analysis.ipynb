{
 "cells": [
  {
   "cell_type": "markdown",
   "id": "347002ea",
   "metadata": {},
   "source": [
    "# Medical Insurance Costs Analysis\n",
    "### Author: Parker Holt\n",
    "### Summary:\n",
    "This project is a cost analysis with one dataset to answer four questions:\n",
    "1. Find the average cost for all people\n",
    "2. Find the difference between smokers and non-smokers in average cost\n",
    "3. Find the region with highest average cost\n",
    "4. Find the average cost for people with age of 50 and up"
   ]
  },
  {
   "cell_type": "markdown",
   "id": "854a8327",
   "metadata": {},
   "source": [
    "importing pandas and opening the insurance dataset from https://www.kaggle.com/datasets/mirichoi0218/insurance?select=insurance.csv"
   ]
  },
  {
   "cell_type": "code",
   "execution_count": 1,
   "id": "2860655b",
   "metadata": {},
   "outputs": [],
   "source": [
    "import pandas as pd"
   ]
  },
  {
   "cell_type": "code",
   "execution_count": 2,
   "id": "1485ff67",
   "metadata": {},
   "outputs": [
    {
     "data": {
      "text/html": [
       "<div>\n",
       "<style scoped>\n",
       "    .dataframe tbody tr th:only-of-type {\n",
       "        vertical-align: middle;\n",
       "    }\n",
       "\n",
       "    .dataframe tbody tr th {\n",
       "        vertical-align: top;\n",
       "    }\n",
       "\n",
       "    .dataframe thead th {\n",
       "        text-align: right;\n",
       "    }\n",
       "</style>\n",
       "<table border=\"1\" class=\"dataframe\">\n",
       "  <thead>\n",
       "    <tr style=\"text-align: right;\">\n",
       "      <th></th>\n",
       "      <th>age</th>\n",
       "      <th>sex</th>\n",
       "      <th>bmi</th>\n",
       "      <th>children</th>\n",
       "      <th>smoker</th>\n",
       "      <th>region</th>\n",
       "      <th>charges</th>\n",
       "    </tr>\n",
       "  </thead>\n",
       "  <tbody>\n",
       "    <tr>\n",
       "      <th>0</th>\n",
       "      <td>19</td>\n",
       "      <td>female</td>\n",
       "      <td>27.900</td>\n",
       "      <td>0</td>\n",
       "      <td>yes</td>\n",
       "      <td>southwest</td>\n",
       "      <td>16884.92400</td>\n",
       "    </tr>\n",
       "    <tr>\n",
       "      <th>1</th>\n",
       "      <td>18</td>\n",
       "      <td>male</td>\n",
       "      <td>33.770</td>\n",
       "      <td>1</td>\n",
       "      <td>no</td>\n",
       "      <td>southeast</td>\n",
       "      <td>1725.55230</td>\n",
       "    </tr>\n",
       "    <tr>\n",
       "      <th>2</th>\n",
       "      <td>28</td>\n",
       "      <td>male</td>\n",
       "      <td>33.000</td>\n",
       "      <td>3</td>\n",
       "      <td>no</td>\n",
       "      <td>southeast</td>\n",
       "      <td>4449.46200</td>\n",
       "    </tr>\n",
       "    <tr>\n",
       "      <th>3</th>\n",
       "      <td>33</td>\n",
       "      <td>male</td>\n",
       "      <td>22.705</td>\n",
       "      <td>0</td>\n",
       "      <td>no</td>\n",
       "      <td>northwest</td>\n",
       "      <td>21984.47061</td>\n",
       "    </tr>\n",
       "    <tr>\n",
       "      <th>4</th>\n",
       "      <td>32</td>\n",
       "      <td>male</td>\n",
       "      <td>28.880</td>\n",
       "      <td>0</td>\n",
       "      <td>no</td>\n",
       "      <td>northwest</td>\n",
       "      <td>3866.85520</td>\n",
       "    </tr>\n",
       "  </tbody>\n",
       "</table>\n",
       "</div>"
      ],
      "text/plain": [
       "   age     sex     bmi  children smoker     region      charges\n",
       "0   19  female  27.900         0    yes  southwest  16884.92400\n",
       "1   18    male  33.770         1     no  southeast   1725.55230\n",
       "2   28    male  33.000         3     no  southeast   4449.46200\n",
       "3   33    male  22.705         0     no  northwest  21984.47061\n",
       "4   32    male  28.880         0     no  northwest   3866.85520"
      ]
     },
     "execution_count": 2,
     "metadata": {},
     "output_type": "execute_result"
    }
   ],
   "source": [
    "insurance = pd.read_csv('insurance.csv')\n",
    "insurance.head()"
   ]
  },
  {
   "cell_type": "markdown",
   "id": "d15b4405",
   "metadata": {},
   "source": [
    "## Goals of Analysis\n",
    "### 1. Find the average cost for all people\n",
    "### 2. Find the difference between smokers and non-smokers in average cost\n",
    "### 3. Find the region with highest average cost\n",
    "### 4. Find the average cost for people with age of 50 and up."
   ]
  },
  {
   "cell_type": "markdown",
   "id": "c6b5eadf",
   "metadata": {},
   "source": [
    "Average Cost for all people in the dataset"
   ]
  },
  {
   "cell_type": "code",
   "execution_count": 3,
   "id": "8884bbfc",
   "metadata": {},
   "outputs": [
    {
     "name": "stdout",
     "output_type": "stream",
     "text": [
      "The average cost for all people is 13270.42\n"
     ]
    }
   ],
   "source": [
    "#Average cost for all people\n",
    "average_cost = sum(insurance['charges']) / len(insurance['charges'])\n",
    "print('The average cost for all people is ' + str(round(average_cost, 2)))"
   ]
  },
  {
   "cell_type": "markdown",
   "id": "99ebda23",
   "metadata": {},
   "source": [
    "Difference between smokers and non smokers in average cost"
   ]
  },
  {
   "cell_type": "code",
   "execution_count": 4,
   "id": "74a5e744",
   "metadata": {},
   "outputs": [
    {
     "name": "stdout",
     "output_type": "stream",
     "text": [
      "The difference between smokers and non_smokers in average cost is 23615.96\n"
     ]
    }
   ],
   "source": [
    "#Difference between smokers and non-smokers in average cost\n",
    "sum_charges_smokers = 0\n",
    "sum_charges_non_smokers = 0\n",
    "count_smokers = 0\n",
    "count_non_smokers = 0\n",
    "\n",
    "\n",
    "for index in insurance.index:\n",
    "    if insurance['smoker'][index] == 'yes':\n",
    "        sum_charges_smokers += insurance['charges'][index]\n",
    "        count_smokers += 1\n",
    "    elif insurance['smoker'][index] == 'no':\n",
    "        sum_charges_non_smokers += insurance['charges'][index]\n",
    "        count_non_smokers += 1\n",
    "\n",
    "\n",
    "avg_smokers_cost = sum_charges_smokers / count_smokers\n",
    "avg_non_smokers_cost = sum_charges_non_smokers / count_non_smokers\n",
    "\n",
    "difference = abs(avg_smokers_cost - avg_non_smokers_cost)\n",
    "print(\"The difference between smokers and non_smokers in average cost is \" + str(round(difference, 2)))"
   ]
  },
  {
   "cell_type": "markdown",
   "id": "386613ac",
   "metadata": {},
   "source": [
    "The region with highest average cost"
   ]
  },
  {
   "cell_type": "code",
   "execution_count": 5,
   "id": "b37d9d97",
   "metadata": {},
   "outputs": [
    {
     "name": "stdout",
     "output_type": "stream",
     "text": [
      "The region with highest average cost is Southeast. The cost in that region is 14735.41\n"
     ]
    }
   ],
   "source": [
    "#The region with highest average cost\n",
    "\n",
    "sum_northwest = 0\n",
    "sum_northeast = 0\n",
    "sum_southwest = 0\n",
    "sum_southeast = 0\n",
    "count_nw = 0\n",
    "count_ne = 0\n",
    "count_sw = 0\n",
    "count_se = 0\n",
    "\n",
    "for index in insurance.index:\n",
    "    if insurance['region'][index] == 'northwest':\n",
    "        sum_northwest += insurance['charges'][index]\n",
    "        count_nw += 1\n",
    "    elif insurance['region'][index] == 'northeast':\n",
    "        sum_northeast += insurance['charges'][index]\n",
    "        count_ne += 1\n",
    "    elif insurance['region'][index] == 'southwest':\n",
    "        sum_southwest += insurance['charges'][index]\n",
    "        count_sw += 1\n",
    "    elif insurance['region'][index] == 'southeast':\n",
    "        sum_southeast += insurance['charges'][index]\n",
    "        count_se += 1\n",
    "\n",
    "avg_nw = sum_northwest / count_nw\n",
    "avg_ne = sum_northeast / count_ne\n",
    "avg_sw = sum_southwest / count_sw\n",
    "avg_se = sum_southeast / count_se\n",
    "#Below I used print functions to find which region has highest average cost\n",
    "#print(sum_northwest, sum_northeast, sum_southwest, sum_southeast)\n",
    "#print(avg_nw, avg_ne, avg_sw, avg_se)\n",
    "#print(count_nw, count_ne, count_sw, count_se)\n",
    "highest_cost = max(avg_nw, avg_ne, avg_sw, avg_se)\n",
    "\n",
    "print('The region with highest average cost is Southeast. The cost in that region is ' + str(round(highest_cost, 2)))"
   ]
  },
  {
   "cell_type": "markdown",
   "id": "c68c33ab",
   "metadata": {},
   "source": [
    "The average cost for people with age of 50 and up"
   ]
  },
  {
   "cell_type": "code",
   "execution_count": 6,
   "id": "250f9bd3",
   "metadata": {},
   "outputs": [
    {
     "name": "stdout",
     "output_type": "stream",
     "text": [
      "The average cost for people with age of 50 and up is 17902.55\n"
     ]
    }
   ],
   "source": [
    "#The average cost for people with age of 50 and up\n",
    "\n",
    "sum_age_50up = 0\n",
    "count_50up = 0\n",
    "\n",
    "for index in insurance.index:\n",
    "    if insurance['age'][index] >= 50:\n",
    "        sum_age_50up += insurance['charges'][index]\n",
    "        count_50up += 1\n",
    "        \n",
    "avg_cost_50up = sum_age_50up / count_50up\n",
    "print('The average cost for people with age of 50 and up is ' + str(round(avg_cost_50up, 2)))"
   ]
  }
 ],
 "metadata": {
  "kernelspec": {
   "display_name": "Python 3 (ipykernel)",
   "language": "python",
   "name": "python3"
  },
  "language_info": {
   "codemirror_mode": {
    "name": "ipython",
    "version": 3
   },
   "file_extension": ".py",
   "mimetype": "text/x-python",
   "name": "python",
   "nbconvert_exporter": "python",
   "pygments_lexer": "ipython3",
   "version": "3.9.12"
  }
 },
 "nbformat": 4,
 "nbformat_minor": 5
}
