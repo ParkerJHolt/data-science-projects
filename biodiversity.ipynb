{
 "cells": [
  {
   "cell_type": "markdown",
   "metadata": {},
   "source": [
    "# Analysis of Biodiversity in Four Parks\n",
    "## Author: Parker"
   ]
  },
  {
   "cell_type": "markdown",
   "metadata": {},
   "source": [
    "## Objective:\n",
    "\n",
    "Make an recommendation to conservationists to conserve the endangered species"
   ]
  },
  {
   "cell_type": "markdown",
   "metadata": {},
   "source": [
    "## Importing Python Libraries and Process the Data"
   ]
  },
  {
   "cell_type": "code",
   "execution_count": 1,
   "metadata": {},
   "outputs": [],
   "source": [
    "import pandas as pd\n",
    "import numpy as np\n",
    "import seaborn as sns\n",
    "import statsmodels\n",
    "import matplotlib.pyplot as plt"
   ]
  },
  {
   "cell_type": "code",
   "execution_count": 2,
   "metadata": {},
   "outputs": [],
   "source": [
    "spec = pd.read_csv('species_info.csv')\n",
    "obs = pd.read_csv('observations.csv')"
   ]
  },
  {
   "cell_type": "code",
   "execution_count": 3,
   "metadata": {
    "scrolled": false
   },
   "outputs": [
    {
     "data": {
      "text/html": [
       "<div>\n",
       "<style scoped>\n",
       "    .dataframe tbody tr th:only-of-type {\n",
       "        vertical-align: middle;\n",
       "    }\n",
       "\n",
       "    .dataframe tbody tr th {\n",
       "        vertical-align: top;\n",
       "    }\n",
       "\n",
       "    .dataframe thead th {\n",
       "        text-align: right;\n",
       "    }\n",
       "</style>\n",
       "<table border=\"1\" class=\"dataframe\">\n",
       "  <thead>\n",
       "    <tr style=\"text-align: right;\">\n",
       "      <th></th>\n",
       "      <th>category</th>\n",
       "      <th>scientific_name</th>\n",
       "      <th>common_names</th>\n",
       "      <th>conservation_status</th>\n",
       "    </tr>\n",
       "  </thead>\n",
       "  <tbody>\n",
       "    <tr>\n",
       "      <th>0</th>\n",
       "      <td>Mammal</td>\n",
       "      <td>Clethrionomys gapperi gapperi</td>\n",
       "      <td>Gapper's Red-Backed Vole</td>\n",
       "      <td>NaN</td>\n",
       "    </tr>\n",
       "    <tr>\n",
       "      <th>1</th>\n",
       "      <td>Mammal</td>\n",
       "      <td>Bos bison</td>\n",
       "      <td>American Bison, Bison</td>\n",
       "      <td>NaN</td>\n",
       "    </tr>\n",
       "    <tr>\n",
       "      <th>2</th>\n",
       "      <td>Mammal</td>\n",
       "      <td>Bos taurus</td>\n",
       "      <td>Aurochs, Aurochs, Domestic Cattle (Feral), Dom...</td>\n",
       "      <td>NaN</td>\n",
       "    </tr>\n",
       "    <tr>\n",
       "      <th>3</th>\n",
       "      <td>Mammal</td>\n",
       "      <td>Ovis aries</td>\n",
       "      <td>Domestic Sheep, Mouflon, Red Sheep, Sheep (Feral)</td>\n",
       "      <td>NaN</td>\n",
       "    </tr>\n",
       "    <tr>\n",
       "      <th>4</th>\n",
       "      <td>Mammal</td>\n",
       "      <td>Cervus elaphus</td>\n",
       "      <td>Wapiti Or Elk</td>\n",
       "      <td>NaN</td>\n",
       "    </tr>\n",
       "  </tbody>\n",
       "</table>\n",
       "</div>"
      ],
      "text/plain": [
       "  category                scientific_name  \\\n",
       "0   Mammal  Clethrionomys gapperi gapperi   \n",
       "1   Mammal                      Bos bison   \n",
       "2   Mammal                     Bos taurus   \n",
       "3   Mammal                     Ovis aries   \n",
       "4   Mammal                 Cervus elaphus   \n",
       "\n",
       "                                        common_names conservation_status  \n",
       "0                           Gapper's Red-Backed Vole                 NaN  \n",
       "1                              American Bison, Bison                 NaN  \n",
       "2  Aurochs, Aurochs, Domestic Cattle (Feral), Dom...                 NaN  \n",
       "3  Domestic Sheep, Mouflon, Red Sheep, Sheep (Feral)                 NaN  \n",
       "4                                      Wapiti Or Elk                 NaN  "
      ]
     },
     "execution_count": 3,
     "metadata": {},
     "output_type": "execute_result"
    }
   ],
   "source": [
    "spec.head()"
   ]
  },
  {
   "cell_type": "code",
   "execution_count": 4,
   "metadata": {},
   "outputs": [
    {
     "name": "stdout",
     "output_type": "stream",
     "text": [
      "<class 'pandas.core.frame.DataFrame'>\n",
      "RangeIndex: 5824 entries, 0 to 5823\n",
      "Data columns (total 4 columns):\n",
      " #   Column               Non-Null Count  Dtype \n",
      "---  ------               --------------  ----- \n",
      " 0   category             5824 non-null   object\n",
      " 1   scientific_name      5824 non-null   object\n",
      " 2   common_names         5824 non-null   object\n",
      " 3   conservation_status  191 non-null    object\n",
      "dtypes: object(4)\n",
      "memory usage: 182.1+ KB\n"
     ]
    }
   ],
   "source": [
    "spec.info()\n",
    "\n",
    "#conservation_status has a lot of missing data which can be inferred as being not conserved."
   ]
  },
  {
   "cell_type": "code",
   "execution_count": 5,
   "metadata": {},
   "outputs": [
    {
     "data": {
      "text/html": [
       "<div>\n",
       "<style scoped>\n",
       "    .dataframe tbody tr th:only-of-type {\n",
       "        vertical-align: middle;\n",
       "    }\n",
       "\n",
       "    .dataframe tbody tr th {\n",
       "        vertical-align: top;\n",
       "    }\n",
       "\n",
       "    .dataframe thead th {\n",
       "        text-align: right;\n",
       "    }\n",
       "</style>\n",
       "<table border=\"1\" class=\"dataframe\">\n",
       "  <thead>\n",
       "    <tr style=\"text-align: right;\">\n",
       "      <th></th>\n",
       "      <th>scientific_name</th>\n",
       "      <th>park_name</th>\n",
       "      <th>observations</th>\n",
       "    </tr>\n",
       "  </thead>\n",
       "  <tbody>\n",
       "    <tr>\n",
       "      <th>0</th>\n",
       "      <td>Vicia benghalensis</td>\n",
       "      <td>Great Smoky Mountains National Park</td>\n",
       "      <td>68</td>\n",
       "    </tr>\n",
       "    <tr>\n",
       "      <th>1</th>\n",
       "      <td>Neovison vison</td>\n",
       "      <td>Great Smoky Mountains National Park</td>\n",
       "      <td>77</td>\n",
       "    </tr>\n",
       "    <tr>\n",
       "      <th>2</th>\n",
       "      <td>Prunus subcordata</td>\n",
       "      <td>Yosemite National Park</td>\n",
       "      <td>138</td>\n",
       "    </tr>\n",
       "    <tr>\n",
       "      <th>3</th>\n",
       "      <td>Abutilon theophrasti</td>\n",
       "      <td>Bryce National Park</td>\n",
       "      <td>84</td>\n",
       "    </tr>\n",
       "    <tr>\n",
       "      <th>4</th>\n",
       "      <td>Githopsis specularioides</td>\n",
       "      <td>Great Smoky Mountains National Park</td>\n",
       "      <td>85</td>\n",
       "    </tr>\n",
       "  </tbody>\n",
       "</table>\n",
       "</div>"
      ],
      "text/plain": [
       "            scientific_name                            park_name  observations\n",
       "0        Vicia benghalensis  Great Smoky Mountains National Park            68\n",
       "1            Neovison vison  Great Smoky Mountains National Park            77\n",
       "2         Prunus subcordata               Yosemite National Park           138\n",
       "3      Abutilon theophrasti                  Bryce National Park            84\n",
       "4  Githopsis specularioides  Great Smoky Mountains National Park            85"
      ]
     },
     "execution_count": 5,
     "metadata": {},
     "output_type": "execute_result"
    }
   ],
   "source": [
    "obs.head()"
   ]
  },
  {
   "cell_type": "code",
   "execution_count": 6,
   "metadata": {},
   "outputs": [
    {
     "name": "stdout",
     "output_type": "stream",
     "text": [
      "<class 'pandas.core.frame.DataFrame'>\n",
      "RangeIndex: 23296 entries, 0 to 23295\n",
      "Data columns (total 3 columns):\n",
      " #   Column           Non-Null Count  Dtype \n",
      "---  ------           --------------  ----- \n",
      " 0   scientific_name  23296 non-null  object\n",
      " 1   park_name        23296 non-null  string\n",
      " 2   observations     23296 non-null  int64 \n",
      "dtypes: int64(1), object(1), string(1)\n",
      "memory usage: 546.1+ KB\n"
     ]
    }
   ],
   "source": [
    "obs['park_name'] = pd.Series(obs['park_name'], dtype=\"string\")\n",
    "obs.info()"
   ]
  },
  {
   "cell_type": "code",
   "execution_count": 7,
   "metadata": {},
   "outputs": [
    {
     "name": "stdout",
     "output_type": "stream",
     "text": [
      "4\n"
     ]
    },
    {
     "data": {
      "text/plain": [
       "array([nan, 'Species of Concern', 'Endangered', 'Threatened',\n",
       "       'In Recovery'], dtype=object)"
      ]
     },
     "execution_count": 7,
     "metadata": {},
     "output_type": "execute_result"
    }
   ],
   "source": [
    "#check values in conservation_status\n",
    "\n",
    "print(spec.conservation_status.nunique())\n",
    "spec.conservation_status.unique()"
   ]
  },
  {
   "cell_type": "code",
   "execution_count": 8,
   "metadata": {},
   "outputs": [],
   "source": [
    "#Fill in null values with string, 'None'\n",
    "\n",
    "spec.conservation_status.fillna('None', inplace=True)"
   ]
  },
  {
   "cell_type": "code",
   "execution_count": 9,
   "metadata": {},
   "outputs": [
    {
     "name": "stdout",
     "output_type": "stream",
     "text": [
      "<class 'pandas.core.frame.DataFrame'>\n",
      "RangeIndex: 5824 entries, 0 to 5823\n",
      "Data columns (total 4 columns):\n",
      " #   Column               Non-Null Count  Dtype \n",
      "---  ------               --------------  ----- \n",
      " 0   category             5824 non-null   object\n",
      " 1   scientific_name      5824 non-null   object\n",
      " 2   common_names         5824 non-null   object\n",
      " 3   conservation_status  5824 non-null   object\n",
      "dtypes: object(4)\n",
      "memory usage: 182.1+ KB\n",
      "None\n",
      "5541\n"
     ]
    },
    {
     "data": {
      "text/html": [
       "<div>\n",
       "<style scoped>\n",
       "    .dataframe tbody tr th:only-of-type {\n",
       "        vertical-align: middle;\n",
       "    }\n",
       "\n",
       "    .dataframe tbody tr th {\n",
       "        vertical-align: top;\n",
       "    }\n",
       "\n",
       "    .dataframe thead th {\n",
       "        text-align: right;\n",
       "    }\n",
       "</style>\n",
       "<table border=\"1\" class=\"dataframe\">\n",
       "  <thead>\n",
       "    <tr style=\"text-align: right;\">\n",
       "      <th></th>\n",
       "      <th>category</th>\n",
       "      <th>scientific_name</th>\n",
       "      <th>common_names</th>\n",
       "      <th>conservation_status</th>\n",
       "    </tr>\n",
       "  </thead>\n",
       "  <tbody>\n",
       "    <tr>\n",
       "      <th>4</th>\n",
       "      <td>Mammal</td>\n",
       "      <td>Cervus elaphus</td>\n",
       "      <td>Wapiti Or Elk</td>\n",
       "      <td>None</td>\n",
       "    </tr>\n",
       "    <tr>\n",
       "      <th>5</th>\n",
       "      <td>Mammal</td>\n",
       "      <td>Odocoileus virginianus</td>\n",
       "      <td>White-Tailed Deer</td>\n",
       "      <td>None</td>\n",
       "    </tr>\n",
       "    <tr>\n",
       "      <th>6</th>\n",
       "      <td>Mammal</td>\n",
       "      <td>Sus scrofa</td>\n",
       "      <td>Feral Hog, Wild Pig</td>\n",
       "      <td>None</td>\n",
       "    </tr>\n",
       "    <tr>\n",
       "      <th>8</th>\n",
       "      <td>Mammal</td>\n",
       "      <td>Canis lupus</td>\n",
       "      <td>Gray Wolf</td>\n",
       "      <td>Endangered</td>\n",
       "    </tr>\n",
       "    <tr>\n",
       "      <th>10</th>\n",
       "      <td>Mammal</td>\n",
       "      <td>Urocyon cinereoargenteus</td>\n",
       "      <td>Common Gray Fox, Gray Fox</td>\n",
       "      <td>None</td>\n",
       "    </tr>\n",
       "    <tr>\n",
       "      <th>...</th>\n",
       "      <td>...</td>\n",
       "      <td>...</td>\n",
       "      <td>...</td>\n",
       "      <td>...</td>\n",
       "    </tr>\n",
       "    <tr>\n",
       "      <th>5619</th>\n",
       "      <td>Vascular Plant</td>\n",
       "      <td>Panicum rigidulum var. rigidulum</td>\n",
       "      <td>Redtop Panicgrass, Redtop Panicum</td>\n",
       "      <td>None</td>\n",
       "    </tr>\n",
       "    <tr>\n",
       "      <th>5638</th>\n",
       "      <td>Vascular Plant</td>\n",
       "      <td>Setaria pumila</td>\n",
       "      <td>Cattail Grass, Yellow Bristle Grass, Yellow Br...</td>\n",
       "      <td>None</td>\n",
       "    </tr>\n",
       "    <tr>\n",
       "      <th>5640</th>\n",
       "      <td>Vascular Plant</td>\n",
       "      <td>Vulpia bromoides</td>\n",
       "      <td>Brome Fescue, Brome Six-Weeks Grass, Desert Fe...</td>\n",
       "      <td>None</td>\n",
       "    </tr>\n",
       "    <tr>\n",
       "      <th>5643</th>\n",
       "      <td>Vascular Plant</td>\n",
       "      <td>Vulpia myuros</td>\n",
       "      <td>Foxtail Fescue, Rattail Fescue, Rat-Tail Fescu...</td>\n",
       "      <td>None</td>\n",
       "    </tr>\n",
       "    <tr>\n",
       "      <th>5750</th>\n",
       "      <td>Vascular Plant</td>\n",
       "      <td>Rosa eglanteria</td>\n",
       "      <td>Sweetbriar Rose</td>\n",
       "      <td>None</td>\n",
       "    </tr>\n",
       "  </tbody>\n",
       "</table>\n",
       "<p>557 rows × 4 columns</p>\n",
       "</div>"
      ],
      "text/plain": [
       "            category                   scientific_name  \\\n",
       "4             Mammal                    Cervus elaphus   \n",
       "5             Mammal            Odocoileus virginianus   \n",
       "6             Mammal                        Sus scrofa   \n",
       "8             Mammal                       Canis lupus   \n",
       "10            Mammal          Urocyon cinereoargenteus   \n",
       "...              ...                               ...   \n",
       "5619  Vascular Plant  Panicum rigidulum var. rigidulum   \n",
       "5638  Vascular Plant                    Setaria pumila   \n",
       "5640  Vascular Plant                  Vulpia bromoides   \n",
       "5643  Vascular Plant                     Vulpia myuros   \n",
       "5750  Vascular Plant                   Rosa eglanteria   \n",
       "\n",
       "                                           common_names conservation_status  \n",
       "4                                         Wapiti Or Elk                None  \n",
       "5                                     White-Tailed Deer                None  \n",
       "6                                   Feral Hog, Wild Pig                None  \n",
       "8                                             Gray Wolf          Endangered  \n",
       "10                            Common Gray Fox, Gray Fox                None  \n",
       "...                                                 ...                 ...  \n",
       "5619                  Redtop Panicgrass, Redtop Panicum                None  \n",
       "5638  Cattail Grass, Yellow Bristle Grass, Yellow Br...                None  \n",
       "5640  Brome Fescue, Brome Six-Weeks Grass, Desert Fe...                None  \n",
       "5643  Foxtail Fescue, Rattail Fescue, Rat-Tail Fescu...                None  \n",
       "5750                                    Sweetbriar Rose                None  \n",
       "\n",
       "[557 rows x 4 columns]"
      ]
     },
     "execution_count": 9,
     "metadata": {},
     "output_type": "execute_result"
    }
   ],
   "source": [
    "print(spec.info())\n",
    "print(spec.scientific_name.nunique())\n",
    "spec[spec.scientific_name.duplicated(keep=False)]"
   ]
  },
  {
   "cell_type": "code",
   "execution_count": 10,
   "metadata": {},
   "outputs": [
    {
     "data": {
      "text/plain": [
       "array([False])"
      ]
     },
     "execution_count": 10,
     "metadata": {},
     "output_type": "execute_result"
    }
   ],
   "source": [
    "duplicates = spec.duplicated()\n",
    "duplicates.unique()\n",
    "\n",
    "# no duplicates in species data for complete rows"
   ]
  },
  {
   "cell_type": "code",
   "execution_count": 11,
   "metadata": {},
   "outputs": [
    {
     "data": {
      "text/html": [
       "<div>\n",
       "<style scoped>\n",
       "    .dataframe tbody tr th:only-of-type {\n",
       "        vertical-align: middle;\n",
       "    }\n",
       "\n",
       "    .dataframe tbody tr th {\n",
       "        vertical-align: top;\n",
       "    }\n",
       "\n",
       "    .dataframe thead th {\n",
       "        text-align: right;\n",
       "    }\n",
       "</style>\n",
       "<table border=\"1\" class=\"dataframe\">\n",
       "  <thead>\n",
       "    <tr style=\"text-align: right;\">\n",
       "      <th></th>\n",
       "      <th>category</th>\n",
       "      <th>scientific_name</th>\n",
       "      <th>common_names</th>\n",
       "      <th>conservation_status</th>\n",
       "    </tr>\n",
       "  </thead>\n",
       "  <tbody>\n",
       "    <tr>\n",
       "      <th>4</th>\n",
       "      <td>Mammal</td>\n",
       "      <td>Cervus elaphus</td>\n",
       "      <td>Wapiti Or Elk</td>\n",
       "      <td>None</td>\n",
       "    </tr>\n",
       "    <tr>\n",
       "      <th>5</th>\n",
       "      <td>Mammal</td>\n",
       "      <td>Odocoileus virginianus</td>\n",
       "      <td>White-Tailed Deer</td>\n",
       "      <td>None</td>\n",
       "    </tr>\n",
       "    <tr>\n",
       "      <th>6</th>\n",
       "      <td>Mammal</td>\n",
       "      <td>Sus scrofa</td>\n",
       "      <td>Feral Hog, Wild Pig</td>\n",
       "      <td>None</td>\n",
       "    </tr>\n",
       "    <tr>\n",
       "      <th>8</th>\n",
       "      <td>Mammal</td>\n",
       "      <td>Canis lupus</td>\n",
       "      <td>Gray Wolf</td>\n",
       "      <td>Endangered</td>\n",
       "    </tr>\n",
       "    <tr>\n",
       "      <th>10</th>\n",
       "      <td>Mammal</td>\n",
       "      <td>Urocyon cinereoargenteus</td>\n",
       "      <td>Common Gray Fox, Gray Fox</td>\n",
       "      <td>None</td>\n",
       "    </tr>\n",
       "    <tr>\n",
       "      <th>...</th>\n",
       "      <td>...</td>\n",
       "      <td>...</td>\n",
       "      <td>...</td>\n",
       "      <td>...</td>\n",
       "    </tr>\n",
       "    <tr>\n",
       "      <th>5619</th>\n",
       "      <td>Vascular Plant</td>\n",
       "      <td>Panicum rigidulum var. rigidulum</td>\n",
       "      <td>Redtop Panicgrass, Redtop Panicum</td>\n",
       "      <td>None</td>\n",
       "    </tr>\n",
       "    <tr>\n",
       "      <th>5638</th>\n",
       "      <td>Vascular Plant</td>\n",
       "      <td>Setaria pumila</td>\n",
       "      <td>Cattail Grass, Yellow Bristle Grass, Yellow Br...</td>\n",
       "      <td>None</td>\n",
       "    </tr>\n",
       "    <tr>\n",
       "      <th>5640</th>\n",
       "      <td>Vascular Plant</td>\n",
       "      <td>Vulpia bromoides</td>\n",
       "      <td>Brome Fescue, Brome Six-Weeks Grass, Desert Fe...</td>\n",
       "      <td>None</td>\n",
       "    </tr>\n",
       "    <tr>\n",
       "      <th>5643</th>\n",
       "      <td>Vascular Plant</td>\n",
       "      <td>Vulpia myuros</td>\n",
       "      <td>Foxtail Fescue, Rattail Fescue, Rat-Tail Fescu...</td>\n",
       "      <td>None</td>\n",
       "    </tr>\n",
       "    <tr>\n",
       "      <th>5750</th>\n",
       "      <td>Vascular Plant</td>\n",
       "      <td>Rosa eglanteria</td>\n",
       "      <td>Sweetbriar Rose</td>\n",
       "      <td>None</td>\n",
       "    </tr>\n",
       "  </tbody>\n",
       "</table>\n",
       "<p>557 rows × 4 columns</p>\n",
       "</div>"
      ],
      "text/plain": [
       "            category                   scientific_name  \\\n",
       "4             Mammal                    Cervus elaphus   \n",
       "5             Mammal            Odocoileus virginianus   \n",
       "6             Mammal                        Sus scrofa   \n",
       "8             Mammal                       Canis lupus   \n",
       "10            Mammal          Urocyon cinereoargenteus   \n",
       "...              ...                               ...   \n",
       "5619  Vascular Plant  Panicum rigidulum var. rigidulum   \n",
       "5638  Vascular Plant                    Setaria pumila   \n",
       "5640  Vascular Plant                  Vulpia bromoides   \n",
       "5643  Vascular Plant                     Vulpia myuros   \n",
       "5750  Vascular Plant                   Rosa eglanteria   \n",
       "\n",
       "                                           common_names conservation_status  \n",
       "4                                         Wapiti Or Elk                None  \n",
       "5                                     White-Tailed Deer                None  \n",
       "6                                   Feral Hog, Wild Pig                None  \n",
       "8                                             Gray Wolf          Endangered  \n",
       "10                            Common Gray Fox, Gray Fox                None  \n",
       "...                                                 ...                 ...  \n",
       "5619                  Redtop Panicgrass, Redtop Panicum                None  \n",
       "5638  Cattail Grass, Yellow Bristle Grass, Yellow Br...                None  \n",
       "5640  Brome Fescue, Brome Six-Weeks Grass, Desert Fe...                None  \n",
       "5643  Foxtail Fescue, Rattail Fescue, Rat-Tail Fescu...                None  \n",
       "5750                                    Sweetbriar Rose                None  \n",
       "\n",
       "[557 rows x 4 columns]"
      ]
     },
     "execution_count": 11,
     "metadata": {},
     "output_type": "execute_result"
    }
   ],
   "source": [
    "spec[spec.scientific_name.duplicated(keep=False)]"
   ]
  },
  {
   "cell_type": "code",
   "execution_count": 12,
   "metadata": {},
   "outputs": [
    {
     "data": {
      "text/html": [
       "<div>\n",
       "<style scoped>\n",
       "    .dataframe tbody tr th:only-of-type {\n",
       "        vertical-align: middle;\n",
       "    }\n",
       "\n",
       "    .dataframe tbody tr th {\n",
       "        vertical-align: top;\n",
       "    }\n",
       "\n",
       "    .dataframe thead th {\n",
       "        text-align: right;\n",
       "    }\n",
       "</style>\n",
       "<table border=\"1\" class=\"dataframe\">\n",
       "  <thead>\n",
       "    <tr style=\"text-align: right;\">\n",
       "      <th></th>\n",
       "      <th>category</th>\n",
       "      <th>scientific_name</th>\n",
       "      <th>common_names</th>\n",
       "      <th>conservation_status</th>\n",
       "    </tr>\n",
       "  </thead>\n",
       "  <tbody>\n",
       "    <tr>\n",
       "      <th>4</th>\n",
       "      <td>Mammal</td>\n",
       "      <td>Cervus elaphus</td>\n",
       "      <td>Wapiti Or Elk</td>\n",
       "      <td>None</td>\n",
       "    </tr>\n",
       "    <tr>\n",
       "      <th>3017</th>\n",
       "      <td>Mammal</td>\n",
       "      <td>Cervus elaphus</td>\n",
       "      <td>Rocky Mountain Elk</td>\n",
       "      <td>None</td>\n",
       "    </tr>\n",
       "  </tbody>\n",
       "</table>\n",
       "</div>"
      ],
      "text/plain": [
       "     category scientific_name        common_names conservation_status\n",
       "4      Mammal  Cervus elaphus       Wapiti Or Elk                None\n",
       "3017   Mammal  Cervus elaphus  Rocky Mountain Elk                None"
      ]
     },
     "execution_count": 12,
     "metadata": {},
     "output_type": "execute_result"
    }
   ],
   "source": [
    "spec[spec.scientific_name == 'Cervus elaphus']\n",
    "# There are duplicates in scientific_name due to different common names being applied to same scientific name.\n",
    "\n"
   ]
  },
  {
   "cell_type": "code",
   "execution_count": 13,
   "metadata": {},
   "outputs": [
    {
     "data": {
      "text/html": [
       "<div>\n",
       "<style scoped>\n",
       "    .dataframe tbody tr th:only-of-type {\n",
       "        vertical-align: middle;\n",
       "    }\n",
       "\n",
       "    .dataframe tbody tr th {\n",
       "        vertical-align: top;\n",
       "    }\n",
       "\n",
       "    .dataframe thead th {\n",
       "        text-align: right;\n",
       "    }\n",
       "</style>\n",
       "<table border=\"1\" class=\"dataframe\">\n",
       "  <thead>\n",
       "    <tr style=\"text-align: right;\">\n",
       "      <th></th>\n",
       "      <th>category</th>\n",
       "      <th>scientific_name</th>\n",
       "      <th>common_names</th>\n",
       "      <th>conservation_status</th>\n",
       "    </tr>\n",
       "  </thead>\n",
       "  <tbody>\n",
       "    <tr>\n",
       "      <th>8</th>\n",
       "      <td>Mammal</td>\n",
       "      <td>Canis lupus</td>\n",
       "      <td>Gray Wolf</td>\n",
       "      <td>Endangered</td>\n",
       "    </tr>\n",
       "    <tr>\n",
       "      <th>3020</th>\n",
       "      <td>Mammal</td>\n",
       "      <td>Canis lupus</td>\n",
       "      <td>Gray Wolf, Wolf</td>\n",
       "      <td>In Recovery</td>\n",
       "    </tr>\n",
       "    <tr>\n",
       "      <th>4448</th>\n",
       "      <td>Mammal</td>\n",
       "      <td>Canis lupus</td>\n",
       "      <td>Gray Wolf, Wolf</td>\n",
       "      <td>Endangered</td>\n",
       "    </tr>\n",
       "  </tbody>\n",
       "</table>\n",
       "</div>"
      ],
      "text/plain": [
       "     category scientific_name     common_names conservation_status\n",
       "8      Mammal     Canis lupus        Gray Wolf          Endangered\n",
       "3020   Mammal     Canis lupus  Gray Wolf, Wolf         In Recovery\n",
       "4448   Mammal     Canis lupus  Gray Wolf, Wolf          Endangered"
      ]
     },
     "execution_count": 13,
     "metadata": {},
     "output_type": "execute_result"
    }
   ],
   "source": [
    "# Checking for if there are duplicates in scientific_name due to difference in conservation_status\n",
    "spec[spec.scientific_name == 'Canis lupus']\n",
    "\n",
    "#There are duplicates in scientific_name due to difference in conservation_status\n",
    "# Proposed solutions to drop earliest rows to assume latest information."
   ]
  },
  {
   "cell_type": "code",
   "execution_count": 14,
   "metadata": {},
   "outputs": [
    {
     "data": {
      "text/plain": [
       "23"
      ]
     },
     "execution_count": 14,
     "metadata": {},
     "output_type": "execute_result"
    }
   ],
   "source": [
    "# count of Not 'None' in duplicated scientific names for conservation status\n",
    "\n",
    "spec_dup = spec[spec.scientific_name.duplicated(keep=False)]\n",
    "len(spec_dup[spec_dup.conservation_status != 'None'])"
   ]
  },
  {
   "cell_type": "code",
   "execution_count": 15,
   "metadata": {},
   "outputs": [
    {
     "name": "stdout",
     "output_type": "stream",
     "text": [
      "<class 'pandas.core.frame.DataFrame'>\n",
      "Int64Index: 5541 entries, 0 to 5823\n",
      "Data columns (total 4 columns):\n",
      " #   Column               Non-Null Count  Dtype \n",
      "---  ------               --------------  ----- \n",
      " 0   category             5541 non-null   object\n",
      " 1   scientific_name      5541 non-null   object\n",
      " 2   common_names         5541 non-null   object\n",
      " 3   conservation_status  5541 non-null   object\n",
      "dtypes: object(4)\n",
      "memory usage: 216.4+ KB\n"
     ]
    }
   ],
   "source": [
    "# Dropping earliest entries for duplicated scientific names\n",
    "\n",
    "spec.drop_duplicates(subset=['scientific_name'], inplace=True, keep='last')\n",
    "spec.info()"
   ]
  },
  {
   "cell_type": "code",
   "execution_count": 16,
   "metadata": {},
   "outputs": [
    {
     "data": {
      "text/html": [
       "<div>\n",
       "<style scoped>\n",
       "    .dataframe tbody tr th:only-of-type {\n",
       "        vertical-align: middle;\n",
       "    }\n",
       "\n",
       "    .dataframe tbody tr th {\n",
       "        vertical-align: top;\n",
       "    }\n",
       "\n",
       "    .dataframe thead th {\n",
       "        text-align: right;\n",
       "    }\n",
       "</style>\n",
       "<table border=\"1\" class=\"dataframe\">\n",
       "  <thead>\n",
       "    <tr style=\"text-align: right;\">\n",
       "      <th></th>\n",
       "      <th>category</th>\n",
       "      <th>scientific_name</th>\n",
       "      <th>common_names</th>\n",
       "      <th>conservation_status</th>\n",
       "    </tr>\n",
       "  </thead>\n",
       "  <tbody>\n",
       "    <tr>\n",
       "      <th>0</th>\n",
       "      <td>Mammal</td>\n",
       "      <td>Clethrionomys gapperi gapperi</td>\n",
       "      <td>Gapper's Red-Backed Vole</td>\n",
       "      <td>None</td>\n",
       "    </tr>\n",
       "    <tr>\n",
       "      <th>1</th>\n",
       "      <td>Mammal</td>\n",
       "      <td>Bos bison</td>\n",
       "      <td>American Bison, Bison</td>\n",
       "      <td>None</td>\n",
       "    </tr>\n",
       "    <tr>\n",
       "      <th>2</th>\n",
       "      <td>Mammal</td>\n",
       "      <td>Bos taurus</td>\n",
       "      <td>Aurochs, Aurochs, Domestic Cattle (Feral), Dom...</td>\n",
       "      <td>None</td>\n",
       "    </tr>\n",
       "    <tr>\n",
       "      <th>3</th>\n",
       "      <td>Mammal</td>\n",
       "      <td>Ovis aries</td>\n",
       "      <td>Domestic Sheep, Mouflon, Red Sheep, Sheep (Feral)</td>\n",
       "      <td>None</td>\n",
       "    </tr>\n",
       "    <tr>\n",
       "      <th>7</th>\n",
       "      <td>Mammal</td>\n",
       "      <td>Canis latrans</td>\n",
       "      <td>Coyote</td>\n",
       "      <td>Species of Concern</td>\n",
       "    </tr>\n",
       "  </tbody>\n",
       "</table>\n",
       "</div>"
      ],
      "text/plain": [
       "  category                scientific_name  \\\n",
       "0   Mammal  Clethrionomys gapperi gapperi   \n",
       "1   Mammal                      Bos bison   \n",
       "2   Mammal                     Bos taurus   \n",
       "3   Mammal                     Ovis aries   \n",
       "7   Mammal                  Canis latrans   \n",
       "\n",
       "                                        common_names conservation_status  \n",
       "0                           Gapper's Red-Backed Vole                None  \n",
       "1                              American Bison, Bison                None  \n",
       "2  Aurochs, Aurochs, Domestic Cattle (Feral), Dom...                None  \n",
       "3  Domestic Sheep, Mouflon, Red Sheep, Sheep (Feral)                None  \n",
       "7                                             Coyote  Species of Concern  "
      ]
     },
     "execution_count": 16,
     "metadata": {},
     "output_type": "execute_result"
    }
   ],
   "source": [
    "spec.head()"
   ]
  },
  {
   "cell_type": "code",
   "execution_count": 17,
   "metadata": {},
   "outputs": [
    {
     "name": "stdout",
     "output_type": "stream",
     "text": [
      "              scientific_name                            park_name  \\\n",
      "365            Plantago major  Great Smoky Mountains National Park   \n",
      "513             Arctium minus               Yosemite National Park   \n",
      "627        Spilogale putorius            Yellowstone National Park   \n",
      "1020     Eleocharis palustris  Great Smoky Mountains National Park   \n",
      "1032      Hesperis matronalis                  Bryce National Park   \n",
      "1454   Echinochloa crus-galli  Great Smoky Mountains National Park   \n",
      "1635    Streptopelia decaocto            Yellowstone National Park   \n",
      "4178     Monotropa hypopithys  Great Smoky Mountains National Park   \n",
      "4527   Botrychium virginianum            Yellowstone National Park   \n",
      "7219        Prunella vulgaris  Great Smoky Mountains National Park   \n",
      "7263   Echinochloa crus-galli  Great Smoky Mountains National Park   \n",
      "8710    Streptopelia decaocto            Yellowstone National Park   \n",
      "10038          Plantago major  Great Smoky Mountains National Park   \n",
      "10674           Arctium minus               Yosemite National Park   \n",
      "10809    Potentilla norvegica               Yosemite National Park   \n",
      "12381    Eleocharis palustris  Great Smoky Mountains National Park   \n",
      "13097           Poa compressa  Great Smoky Mountains National Park   \n",
      "13372     Hesperis matronalis                  Bryce National Park   \n",
      "14142       Cichorium intybus            Yellowstone National Park   \n",
      "16741       Prunella vulgaris  Great Smoky Mountains National Park   \n",
      "17378    Potentilla norvegica               Yosemite National Park   \n",
      "17577      Spilogale putorius            Yellowstone National Park   \n",
      "18141           Poa compressa  Great Smoky Mountains National Park   \n",
      "18435     Trifolium campestre            Yellowstone National Park   \n",
      "19392       Cichorium intybus            Yellowstone National Park   \n",
      "19575            Salix exigua               Yosemite National Park   \n",
      "20294  Botrychium virginianum            Yellowstone National Park   \n",
      "20820    Monotropa hypopithys  Great Smoky Mountains National Park   \n",
      "21151     Trifolium campestre            Yellowstone National Park   \n",
      "22698            Salix exigua               Yosemite National Park   \n",
      "\n",
      "       observations  \n",
      "365              90  \n",
      "513             162  \n",
      "627             256  \n",
      "1020             62  \n",
      "1032            124  \n",
      "1454             62  \n",
      "1635            255  \n",
      "4178             73  \n",
      "4527            232  \n",
      "7219             75  \n",
      "7263             62  \n",
      "8710            255  \n",
      "10038            90  \n",
      "10674           162  \n",
      "10809           148  \n",
      "12381            62  \n",
      "13097            80  \n",
      "13372           124  \n",
      "14142           266  \n",
      "16741            75  \n",
      "17378           148  \n",
      "17577           256  \n",
      "18141            80  \n",
      "18435           239  \n",
      "19392           266  \n",
      "19575           186  \n",
      "20294           232  \n",
      "20820            73  \n",
      "21151           239  \n",
      "22698           186  \n",
      "\n",
      "30\n",
      "\n",
      "5541\n",
      "\n",
      "4\n"
     ]
    }
   ],
   "source": [
    "print(obs[obs.duplicated(keep= False)])\n",
    "print()\n",
    "print(len(obs[obs.duplicated(keep= False)]))\n",
    "print()\n",
    "print(obs.scientific_name.nunique())\n",
    "print()\n",
    "print(obs.park_name.nunique())\n",
    "# observations data have 30 duplicates\n",
    "# But, there is only 5541 unique values in scientific_name out of 23296 rows. Examining more closely with park_names.\n",
    "# There are 4 parks which could be assumed that same species are spotted in all parks. \n",
    "# Dropping Duplicates as there is no concerns to drop them also its will only drop 15 rows which will not mess up data."
   ]
  },
  {
   "cell_type": "code",
   "execution_count": 18,
   "metadata": {
    "scrolled": true
   },
   "outputs": [
    {
     "name": "stdout",
     "output_type": "stream",
     "text": [
      "<class 'pandas.core.frame.DataFrame'>\n",
      "Int64Index: 23281 entries, 0 to 23295\n",
      "Data columns (total 3 columns):\n",
      " #   Column           Non-Null Count  Dtype \n",
      "---  ------           --------------  ----- \n",
      " 0   scientific_name  23281 non-null  object\n",
      " 1   park_name        23281 non-null  string\n",
      " 2   observations     23281 non-null  int64 \n",
      "dtypes: int64(1), object(1), string(1)\n",
      "memory usage: 727.5+ KB\n"
     ]
    }
   ],
   "source": [
    "# drop duplicates in observations data\n",
    "\n",
    "obs.drop_duplicates(inplace=True)\n",
    "obs.info()\n"
   ]
  },
  {
   "cell_type": "code",
   "execution_count": 19,
   "metadata": {},
   "outputs": [
    {
     "data": {
      "text/html": [
       "<div>\n",
       "<style scoped>\n",
       "    .dataframe tbody tr th:only-of-type {\n",
       "        vertical-align: middle;\n",
       "    }\n",
       "\n",
       "    .dataframe tbody tr th {\n",
       "        vertical-align: top;\n",
       "    }\n",
       "\n",
       "    .dataframe thead th {\n",
       "        text-align: right;\n",
       "    }\n",
       "</style>\n",
       "<table border=\"1\" class=\"dataframe\">\n",
       "  <thead>\n",
       "    <tr style=\"text-align: right;\">\n",
       "      <th></th>\n",
       "      <th>scientific_name</th>\n",
       "      <th>park_name</th>\n",
       "      <th>observations</th>\n",
       "    </tr>\n",
       "  </thead>\n",
       "  <tbody>\n",
       "    <tr>\n",
       "      <th>0</th>\n",
       "      <td>Abies bifolia</td>\n",
       "      <td>Bryce National Park,Yellowstone National Park,...</td>\n",
       "      <td>532</td>\n",
       "    </tr>\n",
       "    <tr>\n",
       "      <th>1</th>\n",
       "      <td>Abies concolor</td>\n",
       "      <td>Great Smoky Mountains National Park,Bryce Nati...</td>\n",
       "      <td>630</td>\n",
       "    </tr>\n",
       "    <tr>\n",
       "      <th>2</th>\n",
       "      <td>Abies fraseri</td>\n",
       "      <td>Bryce National Park,Great Smoky Mountains Nati...</td>\n",
       "      <td>518</td>\n",
       "    </tr>\n",
       "    <tr>\n",
       "      <th>3</th>\n",
       "      <td>Abietinella abietina</td>\n",
       "      <td>Yosemite National Park,Great Smoky Mountains N...</td>\n",
       "      <td>592</td>\n",
       "    </tr>\n",
       "    <tr>\n",
       "      <th>4</th>\n",
       "      <td>Abronia ammophila</td>\n",
       "      <td>Yosemite National Park,Great Smoky Mountains N...</td>\n",
       "      <td>523</td>\n",
       "    </tr>\n",
       "    <tr>\n",
       "      <th>...</th>\n",
       "      <td>...</td>\n",
       "      <td>...</td>\n",
       "      <td>...</td>\n",
       "    </tr>\n",
       "    <tr>\n",
       "      <th>5536</th>\n",
       "      <td>Zonotrichia leucophrys gambelii</td>\n",
       "      <td>Bryce National Park,Yellowstone National Park,...</td>\n",
       "      <td>560</td>\n",
       "    </tr>\n",
       "    <tr>\n",
       "      <th>5537</th>\n",
       "      <td>Zonotrichia leucophrys oriantha</td>\n",
       "      <td>Great Smoky Mountains National Park,Yellowston...</td>\n",
       "      <td>558</td>\n",
       "    </tr>\n",
       "    <tr>\n",
       "      <th>5538</th>\n",
       "      <td>Zonotrichia querula</td>\n",
       "      <td>Bryce National Park,Yosemite National Park,Gre...</td>\n",
       "      <td>616</td>\n",
       "    </tr>\n",
       "    <tr>\n",
       "      <th>5539</th>\n",
       "      <td>Zygodon viridissimus</td>\n",
       "      <td>Great Smoky Mountains National Park,Yellowston...</td>\n",
       "      <td>600</td>\n",
       "    </tr>\n",
       "    <tr>\n",
       "      <th>5540</th>\n",
       "      <td>Zygodon viridissimus var. rupestris</td>\n",
       "      <td>Yellowstone National Park,Bryce National Park,...</td>\n",
       "      <td>651</td>\n",
       "    </tr>\n",
       "  </tbody>\n",
       "</table>\n",
       "<p>5541 rows × 3 columns</p>\n",
       "</div>"
      ],
      "text/plain": [
       "                          scientific_name  \\\n",
       "0                           Abies bifolia   \n",
       "1                          Abies concolor   \n",
       "2                           Abies fraseri   \n",
       "3                    Abietinella abietina   \n",
       "4                       Abronia ammophila   \n",
       "...                                   ...   \n",
       "5536      Zonotrichia leucophrys gambelii   \n",
       "5537      Zonotrichia leucophrys oriantha   \n",
       "5538                  Zonotrichia querula   \n",
       "5539                 Zygodon viridissimus   \n",
       "5540  Zygodon viridissimus var. rupestris   \n",
       "\n",
       "                                              park_name  observations  \n",
       "0     Bryce National Park,Yellowstone National Park,...           532  \n",
       "1     Great Smoky Mountains National Park,Bryce Nati...           630  \n",
       "2     Bryce National Park,Great Smoky Mountains Nati...           518  \n",
       "3     Yosemite National Park,Great Smoky Mountains N...           592  \n",
       "4     Yosemite National Park,Great Smoky Mountains N...           523  \n",
       "...                                                 ...           ...  \n",
       "5536  Bryce National Park,Yellowstone National Park,...           560  \n",
       "5537  Great Smoky Mountains National Park,Yellowston...           558  \n",
       "5538  Bryce National Park,Yosemite National Park,Gre...           616  \n",
       "5539  Great Smoky Mountains National Park,Yellowston...           600  \n",
       "5540  Yellowstone National Park,Bryce National Park,...           651  \n",
       "\n",
       "[5541 rows x 3 columns]"
      ]
     },
     "execution_count": 19,
     "metadata": {},
     "output_type": "execute_result"
    }
   ],
   "source": [
    "# Aggergate observations data to be joinable with species data\n",
    "\n",
    "# Groupby by adding observations\n",
    "\n",
    "obs_sum = obs.groupby('scientific_name').observations.sum()\n",
    "\n",
    "#Groupby by concating strings in park_name\n",
    "obs_parks = obs.groupby(['scientific_name'], as_index=False).agg({'park_name': ','.join})\n",
    "\n",
    "#Joining both aggerated grouped data\n",
    "\n",
    "obs_agg = pd.merge(obs_parks, obs_sum, on='scientific_name', how='inner')\n",
    "obs_agg"
   ]
  },
  {
   "cell_type": "code",
   "execution_count": 20,
   "metadata": {},
   "outputs": [
    {
     "data": {
      "text/html": [
       "<div>\n",
       "<style scoped>\n",
       "    .dataframe tbody tr th:only-of-type {\n",
       "        vertical-align: middle;\n",
       "    }\n",
       "\n",
       "    .dataframe tbody tr th {\n",
       "        vertical-align: top;\n",
       "    }\n",
       "\n",
       "    .dataframe thead th {\n",
       "        text-align: right;\n",
       "    }\n",
       "</style>\n",
       "<table border=\"1\" class=\"dataframe\">\n",
       "  <thead>\n",
       "    <tr style=\"text-align: right;\">\n",
       "      <th></th>\n",
       "      <th>category</th>\n",
       "      <th>scientific_name</th>\n",
       "      <th>common_names</th>\n",
       "      <th>conservation_status</th>\n",
       "      <th>park_name</th>\n",
       "      <th>observations</th>\n",
       "    </tr>\n",
       "  </thead>\n",
       "  <tbody>\n",
       "    <tr>\n",
       "      <th>0</th>\n",
       "      <td>Mammal</td>\n",
       "      <td>Clethrionomys gapperi gapperi</td>\n",
       "      <td>Gapper's Red-Backed Vole</td>\n",
       "      <td>None</td>\n",
       "      <td>Bryce National Park,Yellowstone National Park,...</td>\n",
       "      <td>615</td>\n",
       "    </tr>\n",
       "    <tr>\n",
       "      <th>1</th>\n",
       "      <td>Mammal</td>\n",
       "      <td>Bos bison</td>\n",
       "      <td>American Bison, Bison</td>\n",
       "      <td>None</td>\n",
       "      <td>Yosemite National Park,Yellowstone National Pa...</td>\n",
       "      <td>542</td>\n",
       "    </tr>\n",
       "    <tr>\n",
       "      <th>2</th>\n",
       "      <td>Mammal</td>\n",
       "      <td>Bos taurus</td>\n",
       "      <td>Aurochs, Aurochs, Domestic Cattle (Feral), Dom...</td>\n",
       "      <td>None</td>\n",
       "      <td>Bryce National Park,Yosemite National Park,Yel...</td>\n",
       "      <td>514</td>\n",
       "    </tr>\n",
       "    <tr>\n",
       "      <th>3</th>\n",
       "      <td>Mammal</td>\n",
       "      <td>Ovis aries</td>\n",
       "      <td>Domestic Sheep, Mouflon, Red Sheep, Sheep (Feral)</td>\n",
       "      <td>None</td>\n",
       "      <td>Yosemite National Park,Great Smoky Mountains N...</td>\n",
       "      <td>542</td>\n",
       "    </tr>\n",
       "    <tr>\n",
       "      <th>4</th>\n",
       "      <td>Mammal</td>\n",
       "      <td>Canis latrans</td>\n",
       "      <td>Coyote</td>\n",
       "      <td>Species of Concern</td>\n",
       "      <td>Bryce National Park,Yellowstone National Park,...</td>\n",
       "      <td>458</td>\n",
       "    </tr>\n",
       "    <tr>\n",
       "      <th>...</th>\n",
       "      <td>...</td>\n",
       "      <td>...</td>\n",
       "      <td>...</td>\n",
       "      <td>...</td>\n",
       "      <td>...</td>\n",
       "      <td>...</td>\n",
       "    </tr>\n",
       "    <tr>\n",
       "      <th>5536</th>\n",
       "      <td>Vascular Plant</td>\n",
       "      <td>Solanum parishii</td>\n",
       "      <td>Parish's Nightshade</td>\n",
       "      <td>None</td>\n",
       "      <td>Bryce National Park,Great Smoky Mountains Nati...</td>\n",
       "      <td>574</td>\n",
       "    </tr>\n",
       "    <tr>\n",
       "      <th>5537</th>\n",
       "      <td>Vascular Plant</td>\n",
       "      <td>Solanum xanti</td>\n",
       "      <td>Chaparral Nightshade, Purple Nightshade</td>\n",
       "      <td>None</td>\n",
       "      <td>Great Smoky Mountains National Park,Yellowston...</td>\n",
       "      <td>575</td>\n",
       "    </tr>\n",
       "    <tr>\n",
       "      <th>5538</th>\n",
       "      <td>Vascular Plant</td>\n",
       "      <td>Parthenocissus vitacea</td>\n",
       "      <td>Thicket Creeper, Virginia Creeper, Woodbine</td>\n",
       "      <td>None</td>\n",
       "      <td>Yosemite National Park,Great Smoky Mountains N...</td>\n",
       "      <td>583</td>\n",
       "    </tr>\n",
       "    <tr>\n",
       "      <th>5539</th>\n",
       "      <td>Vascular Plant</td>\n",
       "      <td>Vitis californica</td>\n",
       "      <td>California Grape, California Wild Grape</td>\n",
       "      <td>None</td>\n",
       "      <td>Bryce National Park,Great Smoky Mountains Nati...</td>\n",
       "      <td>562</td>\n",
       "    </tr>\n",
       "    <tr>\n",
       "      <th>5540</th>\n",
       "      <td>Vascular Plant</td>\n",
       "      <td>Tribulus terrestris</td>\n",
       "      <td>Bullhead, Caltrop, Goathead, Mexican Sandbur, ...</td>\n",
       "      <td>None</td>\n",
       "      <td>Great Smoky Mountains National Park,Yellowston...</td>\n",
       "      <td>556</td>\n",
       "    </tr>\n",
       "  </tbody>\n",
       "</table>\n",
       "<p>5541 rows × 6 columns</p>\n",
       "</div>"
      ],
      "text/plain": [
       "            category                scientific_name  \\\n",
       "0             Mammal  Clethrionomys gapperi gapperi   \n",
       "1             Mammal                      Bos bison   \n",
       "2             Mammal                     Bos taurus   \n",
       "3             Mammal                     Ovis aries   \n",
       "4             Mammal                  Canis latrans   \n",
       "...              ...                            ...   \n",
       "5536  Vascular Plant               Solanum parishii   \n",
       "5537  Vascular Plant                  Solanum xanti   \n",
       "5538  Vascular Plant         Parthenocissus vitacea   \n",
       "5539  Vascular Plant              Vitis californica   \n",
       "5540  Vascular Plant            Tribulus terrestris   \n",
       "\n",
       "                                           common_names conservation_status  \\\n",
       "0                              Gapper's Red-Backed Vole                None   \n",
       "1                                 American Bison, Bison                None   \n",
       "2     Aurochs, Aurochs, Domestic Cattle (Feral), Dom...                None   \n",
       "3     Domestic Sheep, Mouflon, Red Sheep, Sheep (Feral)                None   \n",
       "4                                                Coyote  Species of Concern   \n",
       "...                                                 ...                 ...   \n",
       "5536                                Parish's Nightshade                None   \n",
       "5537            Chaparral Nightshade, Purple Nightshade                None   \n",
       "5538        Thicket Creeper, Virginia Creeper, Woodbine                None   \n",
       "5539            California Grape, California Wild Grape                None   \n",
       "5540  Bullhead, Caltrop, Goathead, Mexican Sandbur, ...                None   \n",
       "\n",
       "                                              park_name  observations  \n",
       "0     Bryce National Park,Yellowstone National Park,...           615  \n",
       "1     Yosemite National Park,Yellowstone National Pa...           542  \n",
       "2     Bryce National Park,Yosemite National Park,Yel...           514  \n",
       "3     Yosemite National Park,Great Smoky Mountains N...           542  \n",
       "4     Bryce National Park,Yellowstone National Park,...           458  \n",
       "...                                                 ...           ...  \n",
       "5536  Bryce National Park,Great Smoky Mountains Nati...           574  \n",
       "5537  Great Smoky Mountains National Park,Yellowston...           575  \n",
       "5538  Yosemite National Park,Great Smoky Mountains N...           583  \n",
       "5539  Bryce National Park,Great Smoky Mountains Nati...           562  \n",
       "5540  Great Smoky Mountains National Park,Yellowston...           556  \n",
       "\n",
       "[5541 rows x 6 columns]"
      ]
     },
     "execution_count": 20,
     "metadata": {},
     "output_type": "execute_result"
    }
   ],
   "source": [
    "# Joining aggerated observations and species data\n",
    "\n",
    "data = pd.merge(spec, obs_agg, on='scientific_name', how='inner')\n",
    "data"
   ]
  },
  {
   "cell_type": "markdown",
   "metadata": {},
   "source": [
    "Now data look clean and tidy ready to be analyzed"
   ]
  },
  {
   "cell_type": "markdown",
   "metadata": {},
   "source": [
    "## Exploring Data and Analysis"
   ]
  },
  {
   "cell_type": "code",
   "execution_count": 21,
   "metadata": {
    "scrolled": false
   },
   "outputs": [
    {
     "data": {
      "image/png": "[encoded data removed]",
      "text/plain": [
       "<Figure size 432x288 with 1 Axes>"
      ]
     },
     "metadata": {
      "needs_background": "light"
     },
     "output_type": "display_data"
    },
    {
     "data": {
      "image/png": "[encoded data removed]",
      "text/plain": [
       "<Figure size 432x288 with 1 Axes>"
      ]
     },
     "metadata": {
      "needs_background": "light"
     },
     "output_type": "display_data"
    },
    {
     "data": {
      "image/png": "[encoded data removed]",
      "text/plain": [
       "<Figure size 432x288 with 1 Axes>"
      ]
     },
     "metadata": {
      "needs_background": "light"
     },
     "output_type": "display_data"
    },
    {
     "data": {
      "text/plain": [
       "<Figure size 432x288 with 0 Axes>"
      ]
     },
     "metadata": {},
     "output_type": "display_data"
    }
   ],
   "source": [
    "# Distribution of categories in data\n",
    "\n",
    "sns.countplot(data=data, x= data.category)\n",
    "plt.xticks(rotation=30)\n",
    "plt.title('Distribution of Categories for Species')\n",
    "plt.xlabel('Category')\n",
    "plt.ylabel('Number of Species')\n",
    "plt.show()\n",
    "plt.clf()\n",
    "\n",
    "#The bar chart shows that the data is mostly vascular plants.\n",
    "\n",
    "#Distrubtion of park names in data\n",
    "sns.countplot(data=obs, x=\"park_name\") \n",
    "labels=[\"Great Smoky Mountains National Park\", \"Yosemite National Park\", \"Bryce National Park\", \"Yellowstone National Park\"]\n",
    "plt.title('Distrubtion of Parks')\n",
    "plt.xticks(rotation=45)\n",
    "plt.xlabel('Park')\n",
    "plt.ylabel('Park Mentions')\n",
    "plt.show()\n",
    "plt.clf()\n",
    "#bar chart shows that the data is evenly distrubted for all park names\n",
    "\n",
    "# Determing which park has highest number of species\n",
    "\n",
    "sum_parks = obs.groupby(obs.park_name).observations.sum().reset_index()\n",
    "sum_parks\n",
    "\n",
    "plt.bar(data=sum_parks, x=sum_parks.park_name, height=sum_parks.observations)\n",
    "plt.xticks(rotation=45)\n",
    "plt.title('Count of Observations per Park', y=1.05)\n",
    "plt.xlabel('Park')\n",
    "plt.ylabel('Count in Millions')\n",
    "plt.show()\n",
    "plt.clf()"
   ]
  },
  {
   "cell_type": "code",
   "execution_count": 22,
   "metadata": {},
   "outputs": [
    {
     "data": {
      "image/png": "[encoded data removed]",
      "text/plain": [
       "<Figure size 432x288 with 1 Axes>"
      ]
     },
     "metadata": {
      "needs_background": "light"
     },
     "output_type": "display_data"
    },
    {
     "name": "stdout",
     "output_type": "stream",
     "text": [
      "Mean\n",
      "597.8034650785057\n",
      "Median\n",
      "573.0\n"
     ]
    },
    {
     "data": {
      "text/plain": [
       "<Figure size 432x288 with 0 Axes>"
      ]
     },
     "metadata": {},
     "output_type": "display_data"
    }
   ],
   "source": [
    "# Distribution of observations in data\n",
    "\n",
    "plt.hist(data.observations, bins=20)\n",
    "plt.title('Distribution of Observations')\n",
    "plt.xlabel('Amount of a Species Observed in all Parks')\n",
    "plt.show()\n",
    "plt.clf()\n",
    "print('Mean')\n",
    "print(data.observations.mean())\n",
    "print('Median')\n",
    "print(data.observations.median())"
   ]
  },
  {
   "cell_type": "code",
   "execution_count": 23,
   "metadata": {},
   "outputs": [
    {
     "data": {
      "image/png": "[encoded data removed]",
      "text/plain": [
       "<Figure size 432x288 with 1 Axes>"
      ]
     },
     "metadata": {
      "needs_background": "light"
     },
     "output_type": "display_data"
    },
    {
     "name": "stdout",
     "output_type": "stream",
     "text": [
      "Number of Conserved Species\n",
      "179\n"
     ]
    },
    {
     "data": {
      "text/plain": [
       "<Figure size 432x288 with 0 Axes>"
      ]
     },
     "metadata": {},
     "output_type": "display_data"
    }
   ],
   "source": [
    "# Distribution of conservation status\n",
    "conser = data[data.conservation_status != 'None']\n",
    "# data without conservation status being none\n",
    "sns.countplot(data = conser, x= conser.conservation_status)\n",
    "plt.title('Distribution of Species with Conservation Status')\n",
    "plt.xlabel('Conservation Status')\n",
    "plt.ylabel('Amount of Species')\n",
    "plt.show()\n",
    "plt.clf()\n",
    "print(\"Number of Conserved Species\")\n",
    "print(len(conser))"
   ]
  },
  {
   "cell_type": "code",
   "execution_count": 24,
   "metadata": {},
   "outputs": [
    {
     "data": {
      "image/png": "[encoded data removed]",
      "text/plain": [
       "<Figure size 432x288 with 1 Axes>"
      ]
     },
     "metadata": {
      "needs_background": "light"
     },
     "output_type": "display_data"
    },
    {
     "name": "stdout",
     "output_type": "stream",
     "text": [
      "Mean\n",
      "503.3966480446927\n",
      "Median\n",
      "508.0\n"
     ]
    },
    {
     "data": {
      "text/plain": [
       "<Figure size 432x288 with 0 Axes>"
      ]
     },
     "metadata": {},
     "output_type": "display_data"
    }
   ],
   "source": [
    "# Distribution of observations for conserved species\n",
    "\n",
    "plt.hist(conser.observations)\n",
    "plt.title('Distribution of Observations Among Species with Conservation Status')\n",
    "plt.xlabel('Amount of a Species Observed in all Parks')\n",
    "plt.show()\n",
    "plt.clf()\n",
    "\n",
    "print('Mean')\n",
    "print(conser.observations.mean())\n",
    "print('Median')\n",
    "print(conser.observations.median())"
   ]
  },
  {
   "cell_type": "code",
   "execution_count": 25,
   "metadata": {},
   "outputs": [
    {
     "data": {
      "image/png": "[encoded data removed]",
      "text/plain": [
       "<Figure size 432x288 with 1 Axes>"
      ]
     },
     "metadata": {
      "needs_background": "light"
     },
     "output_type": "display_data"
    },
    {
     "name": "stdout",
     "output_type": "stream",
     "text": [
      "Means of Observations for Conservation Statuses\n",
      "conservation_status\n",
      "Endangered            186.533333\n",
      "In Recovery           464.000000\n",
      "None                  600.955054\n",
      "Species of Concern    546.880795\n",
      "Threatened            333.900000\n",
      "Name: observations, dtype: float64\n"
     ]
    },
    {
     "data": {
      "text/plain": [
       "<Figure size 432x288 with 0 Axes>"
      ]
     },
     "metadata": {},
     "output_type": "display_data"
    }
   ],
   "source": [
    "#Compare means of observations for every conservation status\n",
    "\n",
    "sns.boxplot(data = data, x=data.conservation_status, y=data.observations)\n",
    "plt.title('Comparsion of Means for all Conservation Statuses')\n",
    "plt.xlabel('Conservation Status')\n",
    "plt.ylabel('Observations')\n",
    "plt.xticks(rotation=30)\n",
    "plt.show()\n",
    "plt.clf()\n",
    "\n",
    "print('Means of Observations for Conservation Statuses')\n",
    "print(data.groupby(data.conservation_status).observations.mean())"
   ]
  },
  {
   "cell_type": "code",
   "execution_count": 26,
   "metadata": {},
   "outputs": [
    {
     "data": {
      "image/png": "[encoded data removed]",
      "text/plain": [
       "<Figure size 432x288 with 1 Axes>"
      ]
     },
     "metadata": {
      "needs_background": "light"
     },
     "output_type": "display_data"
    },
    {
     "data": {
      "text/html": [
       "<div>\n",
       "<style scoped>\n",
       "    .dataframe tbody tr th:only-of-type {\n",
       "        vertical-align: middle;\n",
       "    }\n",
       "\n",
       "    .dataframe tbody tr th {\n",
       "        vertical-align: top;\n",
       "    }\n",
       "\n",
       "    .dataframe thead th {\n",
       "        text-align: right;\n",
       "    }\n",
       "</style>\n",
       "<table border=\"1\" class=\"dataframe\">\n",
       "  <thead>\n",
       "    <tr style=\"text-align: right;\">\n",
       "      <th></th>\n",
       "      <th>category</th>\n",
       "      <th>scientific_name</th>\n",
       "      <th>common_names</th>\n",
       "      <th>conservation_status</th>\n",
       "      <th>park_name</th>\n",
       "      <th>observations</th>\n",
       "    </tr>\n",
       "  </thead>\n",
       "  <tbody>\n",
       "    <tr>\n",
       "      <th>5</th>\n",
       "      <td>Mammal</td>\n",
       "      <td>Canis rufus</td>\n",
       "      <td>Red Wolf</td>\n",
       "      <td>Endangered</td>\n",
       "      <td>Bryce National Park,Yosemite National Park,Gre...</td>\n",
       "      <td>137</td>\n",
       "    </tr>\n",
       "    <tr>\n",
       "      <th>20</th>\n",
       "      <td>Mammal</td>\n",
       "      <td>Myotis grisescens</td>\n",
       "      <td>Gray Myotis</td>\n",
       "      <td>Endangered</td>\n",
       "      <td>Bryce National Park,Yellowstone National Park,...</td>\n",
       "      <td>160</td>\n",
       "    </tr>\n",
       "    <tr>\n",
       "      <th>24</th>\n",
       "      <td>Mammal</td>\n",
       "      <td>Myotis sodalis</td>\n",
       "      <td>Indiana Bat, Indiana Or Social Myotis</td>\n",
       "      <td>Endangered</td>\n",
       "      <td>Yosemite National Park,Great Smoky Mountains N...</td>\n",
       "      <td>145</td>\n",
       "    </tr>\n",
       "    <tr>\n",
       "      <th>52</th>\n",
       "      <td>Mammal</td>\n",
       "      <td>Glaucomys sabrinus coloratus</td>\n",
       "      <td>Carolina Northern Flying Squirrel, Northern Fl...</td>\n",
       "      <td>Endangered</td>\n",
       "      <td>Bryce National Park,Great Smoky Mountains Nati...</td>\n",
       "      <td>153</td>\n",
       "    </tr>\n",
       "    <tr>\n",
       "      <th>144</th>\n",
       "      <td>Bird</td>\n",
       "      <td>Grus americana</td>\n",
       "      <td>Whooping Crane</td>\n",
       "      <td>Endangered</td>\n",
       "      <td>Great Smoky Mountains National Park,Yellowston...</td>\n",
       "      <td>131</td>\n",
       "    </tr>\n",
       "    <tr>\n",
       "      <th>241</th>\n",
       "      <td>Bird</td>\n",
       "      <td>Vermivora bachmanii</td>\n",
       "      <td>Bachman's Warbler, Bachman's Wood Warbler</td>\n",
       "      <td>Endangered</td>\n",
       "      <td>Bryce National Park,Yosemite National Park,Yel...</td>\n",
       "      <td>141</td>\n",
       "    </tr>\n",
       "    <tr>\n",
       "      <th>303</th>\n",
       "      <td>Bird</td>\n",
       "      <td>Picoides borealis</td>\n",
       "      <td>Red-Cockaded Woodpecker</td>\n",
       "      <td>Endangered</td>\n",
       "      <td>Yosemite National Park,Great Smoky Mountains N...</td>\n",
       "      <td>146</td>\n",
       "    </tr>\n",
       "    <tr>\n",
       "      <th>497</th>\n",
       "      <td>Fish</td>\n",
       "      <td>Etheostoma percnurum</td>\n",
       "      <td>Duskytail Darter</td>\n",
       "      <td>Endangered</td>\n",
       "      <td>Yellowstone National Park,Great Smoky Mountain...</td>\n",
       "      <td>166</td>\n",
       "    </tr>\n",
       "    <tr>\n",
       "      <th>525</th>\n",
       "      <td>Fish</td>\n",
       "      <td>Noturus baileyi</td>\n",
       "      <td>Smoky Madtom</td>\n",
       "      <td>Endangered</td>\n",
       "      <td>Great Smoky Mountains National Park,Yellowston...</td>\n",
       "      <td>143</td>\n",
       "    </tr>\n",
       "    <tr>\n",
       "      <th>2257</th>\n",
       "      <td>Vascular Plant</td>\n",
       "      <td>Geum radiatum</td>\n",
       "      <td>Mountain Avens, Spreading Avens</td>\n",
       "      <td>Endangered</td>\n",
       "      <td>Great Smoky Mountains National Park,Yellowston...</td>\n",
       "      <td>162</td>\n",
       "    </tr>\n",
       "    <tr>\n",
       "      <th>2999</th>\n",
       "      <td>Fish</td>\n",
       "      <td>Chasmistes liorus</td>\n",
       "      <td>June Sucker</td>\n",
       "      <td>Endangered</td>\n",
       "      <td>Bryce National Park,Yellowstone National Park,...</td>\n",
       "      <td>146</td>\n",
       "    </tr>\n",
       "    <tr>\n",
       "      <th>4163</th>\n",
       "      <td>Mammal</td>\n",
       "      <td>Ovis canadensis sierrae</td>\n",
       "      <td>Sierra Nevada Bighorn Sheep</td>\n",
       "      <td>Endangered</td>\n",
       "      <td>Yellowstone National Park,Yosemite National Pa...</td>\n",
       "      <td>153</td>\n",
       "    </tr>\n",
       "    <tr>\n",
       "      <th>4165</th>\n",
       "      <td>Mammal</td>\n",
       "      <td>Canis lupus</td>\n",
       "      <td>Gray Wolf, Wolf</td>\n",
       "      <td>Endangered</td>\n",
       "      <td>Yosemite National Park,Bryce National Park,Bry...</td>\n",
       "      <td>715</td>\n",
       "    </tr>\n",
       "    <tr>\n",
       "      <th>4222</th>\n",
       "      <td>Bird</td>\n",
       "      <td>Gymnogyps californianus</td>\n",
       "      <td>California Condor</td>\n",
       "      <td>Endangered</td>\n",
       "      <td>Bryce National Park,Yosemite National Park,Gre...</td>\n",
       "      <td>156</td>\n",
       "    </tr>\n",
       "    <tr>\n",
       "      <th>4318</th>\n",
       "      <td>Amphibian</td>\n",
       "      <td>Rana sierrae</td>\n",
       "      <td>Sierra Nevada Yellow-Legged Frog</td>\n",
       "      <td>Endangered</td>\n",
       "      <td>Yosemite National Park,Yellowstone National Pa...</td>\n",
       "      <td>144</td>\n",
       "    </tr>\n",
       "  </tbody>\n",
       "</table>\n",
       "</div>"
      ],
      "text/plain": [
       "            category               scientific_name  \\\n",
       "5             Mammal                   Canis rufus   \n",
       "20            Mammal             Myotis grisescens   \n",
       "24            Mammal                Myotis sodalis   \n",
       "52            Mammal  Glaucomys sabrinus coloratus   \n",
       "144             Bird                Grus americana   \n",
       "241             Bird           Vermivora bachmanii   \n",
       "303             Bird             Picoides borealis   \n",
       "497             Fish          Etheostoma percnurum   \n",
       "525             Fish               Noturus baileyi   \n",
       "2257  Vascular Plant                 Geum radiatum   \n",
       "2999            Fish             Chasmistes liorus   \n",
       "4163          Mammal       Ovis canadensis sierrae   \n",
       "4165          Mammal                   Canis lupus   \n",
       "4222            Bird       Gymnogyps californianus   \n",
       "4318       Amphibian                  Rana sierrae   \n",
       "\n",
       "                                           common_names conservation_status  \\\n",
       "5                                              Red Wolf          Endangered   \n",
       "20                                          Gray Myotis          Endangered   \n",
       "24                Indiana Bat, Indiana Or Social Myotis          Endangered   \n",
       "52    Carolina Northern Flying Squirrel, Northern Fl...          Endangered   \n",
       "144                                      Whooping Crane          Endangered   \n",
       "241           Bachman's Warbler, Bachman's Wood Warbler          Endangered   \n",
       "303                             Red-Cockaded Woodpecker          Endangered   \n",
       "497                                    Duskytail Darter          Endangered   \n",
       "525                                        Smoky Madtom          Endangered   \n",
       "2257                    Mountain Avens, Spreading Avens          Endangered   \n",
       "2999                                        June Sucker          Endangered   \n",
       "4163                        Sierra Nevada Bighorn Sheep          Endangered   \n",
       "4165                                    Gray Wolf, Wolf          Endangered   \n",
       "4222                                  California Condor          Endangered   \n",
       "4318                   Sierra Nevada Yellow-Legged Frog          Endangered   \n",
       "\n",
       "                                              park_name  observations  \n",
       "5     Bryce National Park,Yosemite National Park,Gre...           137  \n",
       "20    Bryce National Park,Yellowstone National Park,...           160  \n",
       "24    Yosemite National Park,Great Smoky Mountains N...           145  \n",
       "52    Bryce National Park,Great Smoky Mountains Nati...           153  \n",
       "144   Great Smoky Mountains National Park,Yellowston...           131  \n",
       "241   Bryce National Park,Yosemite National Park,Yel...           141  \n",
       "303   Yosemite National Park,Great Smoky Mountains N...           146  \n",
       "497   Yellowstone National Park,Great Smoky Mountain...           166  \n",
       "525   Great Smoky Mountains National Park,Yellowston...           143  \n",
       "2257  Great Smoky Mountains National Park,Yellowston...           162  \n",
       "2999  Bryce National Park,Yellowstone National Park,...           146  \n",
       "4163  Yellowstone National Park,Yosemite National Pa...           153  \n",
       "4165  Yosemite National Park,Bryce National Park,Bry...           715  \n",
       "4222  Bryce National Park,Yosemite National Park,Gre...           156  \n",
       "4318  Yosemite National Park,Yellowstone National Pa...           144  "
      ]
     },
     "execution_count": 26,
     "metadata": {},
     "output_type": "execute_result"
    },
    {
     "data": {
      "text/plain": [
       "<Figure size 432x288 with 0 Axes>"
      ]
     },
     "metadata": {},
     "output_type": "display_data"
    }
   ],
   "source": [
    "#Distribution of endangered species based on category\n",
    "\n",
    "endang = data[data.conservation_status == 'Endangered']\n",
    "#data for endangered species\n",
    "\n",
    "sns.countplot(data = endang, x=endang.category)\n",
    "plt.title('Distribution of Endangered Species')\n",
    "plt.xlabel('Category')\n",
    "plt.ylabel('Amount of Species')\n",
    "plt.xticks(rotation=30)\n",
    "plt.show()\n",
    "plt.clf()\n",
    "\n",
    "endang"
   ]
  },
  {
   "cell_type": "code",
   "execution_count": 27,
   "metadata": {},
   "outputs": [
    {
     "data": {
      "image/png": "[encoded data removed]",
      "text/plain": [
       "<Figure size 432x288 with 1 Axes>"
      ]
     },
     "metadata": {
      "needs_background": "light"
     },
     "output_type": "display_data"
    },
    {
     "data": {
      "image/png": "[encoded data removed]",
      "text/plain": [
       "<Figure size 432x288 with 1 Axes>"
      ]
     },
     "metadata": {
      "needs_background": "light"
     },
     "output_type": "display_data"
    },
    {
     "data": {
      "text/plain": [
       "<Figure size 432x288 with 0 Axes>"
      ]
     },
     "metadata": {},
     "output_type": "display_data"
    }
   ],
   "source": [
    "#Determing which park has lowest observations for all endangered species\n",
    "\n",
    "endang_parks = pd.DataFrame()\n",
    "for name in endang.scientific_name:\n",
    "    df = obs[obs.scientific_name == name]\n",
    "    endang_parks = pd.concat([endang_parks, df])\n",
    "\n",
    "sum_endang_parks = endang_parks.groupby(endang_parks.park_name).observations.sum().reset_index()\n",
    "sum_endang_parks\n",
    "\n",
    "plt.bar(data=sum_endang_parks, x=sum_endang_parks.park_name, height=sum_endang_parks.observations)\n",
    "plt.title('Count of Observations per Park for Endangered Species')\n",
    "plt.xlabel('Park')\n",
    "plt.xticks(rotation=45)\n",
    "plt.show()\n",
    "plt.clf()\n",
    "\n",
    "#Distribution of parks with endangered species\n",
    "sns.countplot(data=endang_parks, x=endang_parks.park_name)\n",
    "plt.title('Distribution of Parks with Endangered Species')\n",
    "plt.xlabel('Park')\n",
    "plt.ylabel('Park Mentions')\n",
    "plt.xticks(rotation=45)\n",
    "plt.show()\n",
    "plt.clf()\n"
   ]
  },
  {
   "cell_type": "code",
   "execution_count": 28,
   "metadata": {},
   "outputs": [
    {
     "name": "stdout",
     "output_type": "stream",
     "text": [
      "  category    scientific_name         common_names conservation_status  \\\n",
      "0   Mammal  Castor canadensis               Beaver                None   \n",
      "1   Mammal      Puma concolor        Mountain Lion                None   \n",
      "2   Mammal      Procyon lotor              Raccoon                None   \n",
      "3   Mammal   Myotis lucifugus  Little Brown Myotis  Species of Concern   \n",
      "4   Mammal    Tamias umbrinus        Inyo Chipmunk                None   \n",
      "\n",
      "                                           park_name  observations  \n",
      "0  Great Smoky Mountains National Park,Great Smok...          1725  \n",
      "1  Bryce National Park,Great Smoky Mountains Nati...          1711  \n",
      "2  Bryce National Park,Great Smoky Mountains Nati...          1692  \n",
      "3  Great Smoky Mountains National Park,Yellowston...          1547  \n",
      "4  Great Smoky Mountains National Park,Great Smok...          1227            category       scientific_name  \\\n",
      "0  Vascular Plant        Holcus lanatus   \n",
      "1  Vascular Plant  Hypochaeris radicata   \n",
      "2  Vascular Plant     Bidens tripartita   \n",
      "3  Vascular Plant       Oxalis dillenii   \n",
      "4  Vascular Plant        Viola arvensis   \n",
      "\n",
      "                                        common_names conservation_status  \\\n",
      "0     Common Velvetgrass, Velvetgrass, Yorkshire Fog                None   \n",
      "1  Common Cat's-Ear, False Dandelion, Frogbit, Go...                None   \n",
      "2      Threelobe Beggarticks, Three-Lobe Beggarticks                None   \n",
      "3         Dillen's Oxalis, Slender Yellow Woodsorrel                None   \n",
      "4     European Field Pansy, Field Violet, Wild Pansy                None   \n",
      "\n",
      "                                           park_name  observations  \n",
      "0  Yellowstone National Park,Yosemite National Pa...          1780  \n",
      "1  Great Smoky Mountains National Park,Yosemite N...          1720  \n",
      "2  Great Smoky Mountains National Park,Yellowston...          1296  \n",
      "3  Yosemite National Park,Great Smoky Mountains N...          1276  \n",
      "4  Great Smoky Mountains National Park,Yellowston...          1261               category        scientific_name      common_names  \\\n",
      "0  Nonvascular Plant           Ulota crispa        Ulota Moss   \n",
      "1  Nonvascular Plant    Anomodon attenuatus     Anomodon Moss   \n",
      "2  Nonvascular Plant  Pylaisiella polyantha  Pylaisiella Moss   \n",
      "3  Nonvascular Plant        Sphagnum affine          Sphagnum   \n",
      "4  Nonvascular Plant     Dicranum polysetum     Dicranum Moss   \n",
      "\n",
      "  conservation_status                                          park_name  \\\n",
      "0                None  Great Smoky Mountains National Park,Yellowston...   \n",
      "1                None  Yellowstone National Park,Yosemite National Pa...   \n",
      "2                None  Bryce National Park,Great Smoky Mountains Nati...   \n",
      "3                None  Yellowstone National Park,Bryce National Park,...   \n",
      "4                None  Yosemite National Park,Bryce National Park,Yel...   \n",
      "\n",
      "   observations  \n",
      "0           679  \n",
      "1           674  \n",
      "2           669  \n",
      "3           656  \n",
      "4           652     category        scientific_name  \\\n",
      "0     Fish  Salvelinus fontinalis   \n",
      "1     Fish    Oncorhynchus mykiss   \n",
      "2     Fish       Notropis baileyi   \n",
      "3     Fish  Notropis rubricroceus   \n",
      "4     Fish  Prosopium williamsoni   \n",
      "\n",
      "                                        common_names conservation_status  \\\n",
      "0  Aurora Trout, Brook Trout, Charr, Coaster Broo...                None   \n",
      "1                                      Rainbow Trout          Threatened   \n",
      "2                                       Rough Shiner                None   \n",
      "3                                     Saffron Shiner                None   \n",
      "4                                 Mountain Whitefish                None   \n",
      "\n",
      "                                           park_name  observations  \n",
      "0  Yosemite National Park,Yellowstone National Pa...          1270  \n",
      "1  Yosemite National Park,Bryce National Park,Gre...           813  \n",
      "2  Great Smoky Mountains National Park,Yellowston...           670  \n",
      "3  Great Smoky Mountains National Park,Bryce Nati...           664  \n",
      "4  Yosemite National Park,Bryce National Park,Yel...           655     category            scientific_name              common_names  \\\n",
      "0     Bird              Columba livia               Rock Pigeon   \n",
      "1     Bird      Streptopelia decaocto    Eurasian Collared Dove   \n",
      "2     Bird  Centrocercus urophasianus       Greater Sage-Grouse   \n",
      "3     Bird        Butorides virescens               Green Heron   \n",
      "4     Bird           Alectoris chukar  Chukar, Chukar Partridge   \n",
      "\n",
      "  conservation_status                                          park_name  \\\n",
      "0                None  Bryce National Park,Yellowstone National Park,...   \n",
      "1                None  Yellowstone National Park,Bryce National Park,...   \n",
      "2                None  Yosemite National Park,Great Smoky Mountains N...   \n",
      "3                None  Yosemite National Park,Bryce National Park,Bry...   \n",
      "4                None  Bryce National Park,Yellowstone National Park,...   \n",
      "\n",
      "   observations  \n",
      "0          1653  \n",
      "1          1530  \n",
      "2          1253  \n",
      "3          1231  \n",
      "4          1230       category                 scientific_name                 common_names  \\\n",
      "0  Amphibian                Rana catesbeiana  American Bullfrog, Bullfrog   \n",
      "1  Amphibian                  Rana palustris                Pickerel Frog   \n",
      "2  Amphibian                Ambystoma opacum           Marbled Salamander   \n",
      "3  Amphibian  Pseudotriton montanus montanus       Eastern Mud Salamander   \n",
      "4  Amphibian           Pseudotriton montanus               Mud Salamander   \n",
      "\n",
      "  conservation_status                                          park_name  \\\n",
      "0                None  Great Smoky Mountains National Park,Bryce Nati...   \n",
      "1                None  Yosemite National Park,Bryce National Park,Gre...   \n",
      "2                None  Yosemite National Park,Yellowstone National Pa...   \n",
      "3                None  Great Smoky Mountains National Park,Bryce Nati...   \n",
      "4                None  Great Smoky Mountains National Park,Bryce Nati...   \n",
      "\n",
      "   observations  \n",
      "0          1097  \n",
      "1           677  \n",
      "2           661  \n",
      "3           656  \n",
      "4           643  \n"
     ]
    }
   ],
   "source": [
    "#top 20 species that spotted the most for all parks\n",
    "\n",
    "top_species = data.sort_values(by='observations', ascending=False)\n",
    "top20_species = top_species.head(20).reset_index(drop=True)\n",
    "\n",
    "#top 5 per category\n",
    "\n",
    "top_mammals = top_species[top_species.category == 'Mammal']\n",
    "top_v_plants = top_species[top_species.category == 'Vascular Plant']\n",
    "top_nv_plants = top_species[top_species.category == 'Nonvascular Plant']\n",
    "top_fish = top_species[top_species.category == 'Fish']\n",
    "top_birds = top_species[top_species.category == 'Bird']\n",
    "top_amp = top_species[top_species.category == 'Amphibian']\n",
    "\n",
    "top5_mammals = top_mammals.head(5).reset_index(drop=True)\n",
    "top5_v_plants = top_v_plants.head(5).reset_index(drop=True)\n",
    "top5_nv_plants = top_nv_plants.head(5).reset_index(drop=True)\n",
    "top5_fish = top_fish.head(5).reset_index(drop=True)\n",
    "top5_birds = top_birds.head(5).reset_index(drop=True)\n",
    "top5_amp = top_amp.head(5).reset_index(drop=True)\n",
    "\n",
    "print(top5_mammals, top5_v_plants, top5_nv_plants, top5_fish, top5_birds, top5_amp)\n",
    "\n",
    "#It could be recommended to control those species to decrease the impact on conserved species. It will require knowledge of\n",
    "#the ecosystem to track predators and preys. Imported datasets does not show any indiciators of predators or preys."
   ]
  },
  {
   "cell_type": "markdown",
   "metadata": {},
   "source": [
    "## Conclusion"
   ]
  },
  {
   "cell_type": "markdown",
   "metadata": {},
   "source": [
    "Data is laid out in descriptive statistics and comparing species. Data shows that the observed species are mostly Vascular Plants. All observation recordings are evenly distributed for all parks that cover all species. Great Smoky Mountains National Park has the least observations compared to all other parks. 600 is the average observations per species with non-conservation status. Endangered Species have an average of 186 observations per species. Also, some species fall under a higher range in 1200 to 1800 observations per species. The top five species per category are laid out in tables for reference. The top five tables could be used to see if there is any link to the endangered species table. Species control can be imposed on the top five species to protect endangered species going into extinction. Since Great Smoky Mountains National Park has the lowest amount of observations, it would be recommended to invest time and resources in that park to protect endangered species from going extinct in that park."
   ]
  },
  {
   "cell_type": "code",
   "execution_count": null,
   "metadata": {},
   "outputs": [],
   "source": []
  }
 ],
 "metadata": {
  "kernelspec": {
   "display_name": "Python 3 (ipykernel)",
   "language": "python",
   "name": "python3"
  },
  "language_info": {
   "codemirror_mode": {
    "name": "ipython",
    "version": 3
   },
   "file_extension": ".py",
   "mimetype": "text/x-python",
   "name": "python",
   "nbconvert_exporter": "python",
   "pygments_lexer": "ipython3",
   "version": "3.9.12"
  }
 },
 "nbformat": 4,
 "nbformat_minor": 4
}
